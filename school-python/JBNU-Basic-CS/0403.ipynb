{
 "cells": [
  {
   "cell_type": "markdown",
   "metadata": {},
   "source": [
    "# 2024-04-03"
   ]
  },
  {
   "cell_type": "code",
   "execution_count": 2,
   "metadata": {},
   "outputs": [
    {
     "name": "stdout",
     "output_type": "stream",
     "text": [
      "2550\n"
     ]
    }
   ],
   "source": [
    "add = 0\n",
    "for i in range(101):\n",
    "    if i % 2 == 0:\n",
    "        add = add + i\n",
    "\n",
    "print(add)"
   ]
  },
  {
   "cell_type": "code",
   "execution_count": 3,
   "metadata": {},
   "outputs": [
    {
     "name": "stdout",
     "output_type": "stream",
     "text": [
      "1\n",
      "2\n",
      "3\n",
      "4\n",
      "5\n",
      "6\n",
      "7\n",
      "8\n",
      "9\n"
     ]
    }
   ],
   "source": [
    "listofitem = [\n",
    "    [1, 2, 3],\n",
    "    [4, 5, 6, 7],\n",
    "    [8, 9]\n",
    "]\n",
    "\n",
    "for item in listofitem:\n",
    "    for citem in item:\n",
    "        print(citem)"
   ]
  },
  {
   "cell_type": "code",
   "execution_count": 4,
   "metadata": {},
   "outputs": [
    {
     "name": "stdout",
     "output_type": "stream",
     "text": [
      "[1, 2, 3, 4]\n",
      "1 2 3 4\n"
     ]
    }
   ],
   "source": [
    "a = [1, 2, 3, 4]\n",
    "print(a)\n",
    "print(*a)"
   ]
  },
  {
   "cell_type": "code",
   "execution_count": 8,
   "metadata": {},
   "outputs": [
    {
     "name": "stdout",
     "output_type": "stream",
     "text": [
      "- 100 이상의 수: 273\n",
      "- 100 이상의 수: 273\n",
      "- 100 이상의 수: 273\n",
      " - 100 이상의 수: 273\n",
      "- 100 이상의 수: 103\n",
      "- 100 이상의 수: 103\n",
      "- 100 이상의 수: 103\n",
      " - 100 이상의 수: 103\n",
      "- 100 이상의 수: 800\n",
      "- 100 이상의 수: 800\n",
      "- 100 이상의 수: 800\n",
      " - 100 이상의 수: 800\n"
     ]
    }
   ],
   "source": [
    "numbers = [273, 103, 5, 32, 65, 9, 72, 800, 99]\n",
    "\n",
    "for i in numbers:\n",
    "    if i >= 100:\n",
    "        print(\"- 100 이상의 수: {}\".format(i))\n",
    "        print(f\"- 100 이상의 수: {i}\")\n",
    "        print(\"- 100 이상의 수:\", i)\n",
    "        print(\"- 100 이상의 수: %d\" % i)"
   ]
  },
  {
   "cell_type": "code",
   "execution_count": 9,
   "metadata": {},
   "outputs": [
    {
     "name": "stdout",
     "output_type": "stream",
     "text": [
      "273는 홀수입니다.\n",
      "103는 홀수입니다.\n",
      "5는 홀수입니다.\n",
      "65는 홀수입니다.\n",
      "9는 홀수입니다.\n",
      "99는 홀수입니다.\n",
      "273는 3 자릿수입니다.\n",
      "103는 3 자릿수입니다.\n",
      "5는 1 자릿수입니다.\n",
      "32는 2 자릿수입니다.\n",
      "65는 2 자릿수입니다.\n",
      "9는 1 자릿수입니다.\n",
      "72는 2 자릿수입니다.\n",
      "800는 3 자릿수입니다.\n",
      "99는 2 자릿수입니다.\n"
     ]
    }
   ],
   "source": [
    "nt = [273, 103, 5, 32, 65, 9, 72, 800, 99]\n",
    "\n",
    "for i in nt:\n",
    "    if not i % 2 == 0:\n",
    "        print(\"{}는 홀수입니다.\".format(i))\n",
    "    else:\n",
    "        print(\"{}는 짝수입니다.\".format(i))\n",
    "\n",
    "for i in nt:\n",
    "    print(\"{}는 {} 자릿수입니다.\".format(i, len(str(i))))"
   ]
  }
 ],
 "metadata": {
  "kernelspec": {
   "display_name": "Python 3",
   "language": "python",
   "name": "python3"
  },
  "language_info": {
   "codemirror_mode": {
    "name": "ipython",
    "version": 3
   },
   "file_extension": ".py",
   "mimetype": "text/x-python",
   "name": "python",
   "nbconvert_exporter": "python",
   "pygments_lexer": "ipython3",
   "version": "3.10.12"
  }
 },
 "nbformat": 4,
 "nbformat_minor": 2
}
