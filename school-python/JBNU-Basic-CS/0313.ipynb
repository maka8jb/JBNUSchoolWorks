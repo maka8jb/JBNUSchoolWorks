{
 "cells": [
  {
   "cell_type": "markdown",
   "metadata": {},
   "source": [
    "# 2024-03-13"
   ]
  },
  {
   "cell_type": "markdown",
   "metadata": {},
   "source": [
    "2진법, 8진법, 16진법 변환.\n",
    "\n",
    "2 4 7\n",
    "2^7 2^6 2^5 2^4 2^3 2^2 2^1 2^0 <br />\n",
    "1   1   1   1   0   0   1   1    = 0xF3(16) = 363(8)\n",
    "\n",
    "Python의 Type? \n",
    "- int\n",
    "- bool\n",
    "- float\n",
    "- string\n",
    "- etc..."
   ]
  },
  {
   "cell_type": "code",
   "execution_count": 1,
   "metadata": {},
   "outputs": [
    {
     "name": "stdout",
     "output_type": "stream",
     "text": [
      "3462를 17로 나누었을 때\n",
      "몫:  203\n",
      "나머지:  11\n"
     ]
    }
   ],
   "source": [
    "print(\"3462를 17로 나누었을 때\")\n",
    "print(\"몫: \", 3462 // 17)\n",
    "print(\"나머지: \", 3462 % 17)"
   ]
  },
  {
   "cell_type": "code",
   "execution_count": 1,
   "metadata": {},
   "outputs": [
    {
     "name": "stdout",
     "output_type": "stream",
     "text": [
      "3462를 17로 나누었을 때\n",
      "float 나누기:  203.64705882352942\n",
      "몫:  203\n",
      "나머지:  11\n"
     ]
    }
   ],
   "source": [
    "num = 3462\n",
    "rel = num // 17\n",
    "nm = num % 17\n",
    "\n",
    "print(\"3462를 17로 나누었을 때\")\n",
    "print(\"float 나누기: \", num / 17)\n",
    "print(\"몫: \", rel)\n",
    "print(\"나머지: \", nm)"
   ]
  }
 ],
 "metadata": {
  "kernelspec": {
   "display_name": "Python 3",
   "language": "python",
   "name": "python3"
  },
  "language_info": {
   "codemirror_mode": {
    "name": "ipython",
    "version": 3
   },
   "file_extension": ".py",
   "mimetype": "text/x-python",
   "name": "python",
   "nbconvert_exporter": "python",
   "pygments_lexer": "ipython3",
   "version": "3.10.12"
  }
 },
 "nbformat": 4,
 "nbformat_minor": 2
}
