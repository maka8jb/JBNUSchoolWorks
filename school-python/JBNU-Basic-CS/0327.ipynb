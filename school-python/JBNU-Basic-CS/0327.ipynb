{
 "cells": [
  {
   "cell_type": "markdown",
   "metadata": {},
   "source": [
    "# 2024-03-27"
   ]
  },
  {
   "cell_type": "markdown",
   "metadata": {},
   "source": [
    "얘 수학I 교수님 앞에서 졸았대요~ <br />\n",
    "~~네에? 벡터가 모죠오오오오??~~"
   ]
  },
  {
   "cell_type": "markdown",
   "metadata": {},
   "source": [
    "15 to binary\n",
    "\n",
    "0 0 0 0 1 1 1 1\n",
    "\n",
    "-15 to binary\n",
    "\n",
    "1 1 1 1 0 0 0 1"
   ]
  },
  {
   "cell_type": "code",
   "execution_count": 1,
   "metadata": {},
   "outputs": [
    {
     "name": "stdout",
     "output_type": "stream",
     "text": [
      "-0b1111\n"
     ]
    }
   ],
   "source": [
    "print(bin(-15))"
   ]
  },
  {
   "cell_type": "markdown",
   "metadata": {},
   "source": [
    "#### 실수 표현법"
   ]
  },
  {
   "cell_type": "markdown",
   "metadata": {},
   "source": [
    "정규화 표현 <br />\n",
    "[ 부호 필드 ] [ 숫자(가수) 필드 ] [ 지수 필드 ] <br />\n",
    "(field의 크기는 IEEE 또는 OS 구현에 따름)\n",
    "\n",
    "123.1234 <br />\n",
    "-> 0.1231234 * 10^3"
   ]
  },
  {
   "cell_type": "code",
   "execution_count": null,
   "metadata": {},
   "outputs": [],
   "source": [
    "#000000-0000000\n",
    "idnum = input(\"> \")\n",
    "s7t = int(idnum[7])\n",
    "\n",
    "if s7t == 1:\n",
    "    print(\"남자\")\n",
    "else:\n",
    "    print(\"여자\")\n"
   ]
  },
  {
   "cell_type": "code",
   "execution_count": 6,
   "metadata": {},
   "outputs": [
    {
     "name": "stdout",
     "output_type": "stream",
     "text": [
      "?????????\n"
     ]
    }
   ],
   "source": [
    "# 맑을때, 눈올때, 비올때, 흐릴때\n",
    "weth = input(\">\")\n",
    "\n",
    "if weth == \"맑음\":\n",
    "    print(\"소풍\")\n",
    "elif weth == \"눈\" or weth == \"비\":\n",
    "    print(\"수업\")\n",
    "elif weth == \"흐림\":\n",
    "    print(\"화상강의\")\n",
    "elif weth == \"태풍\":\n",
    "    print(\"휴강\")\n",
    "else:\n",
    "    print(\"?????????\")"
   ]
  },
  {
   "cell_type": "code",
   "execution_count": 9,
   "metadata": {},
   "outputs": [
    {
     "name": "stdout",
     "output_type": "stream",
     "text": [
      "C\n"
     ]
    }
   ],
   "source": [
    "#국영수 평균 입력\n",
    "lang = int(input(\"국어: \"))\n",
    "eng = int(input(\"영어: \"))\n",
    "math = int(input(\"수학: \"))\n",
    "\n",
    "avg = (lang + eng + math) / 3\n",
    "\n",
    "if avg > 90:\n",
    "    print(\"A\")\n",
    "elif avg < 90 and avg > 79:\n",
    "    print(\"B\")\n",
    "elif avg < 80 and avg > 69:\n",
    "    print(\"C\")\n",
    "elif avg < 70 and avg > 59:\n",
    "    print(\"D\")\n",
    "else:\n",
    "    print(\"F\")"
   ]
  },
  {
   "cell_type": "code",
   "execution_count": 1,
   "metadata": {},
   "outputs": [
    {
     "name": "stdout",
     "output_type": "stream",
     "text": [
      "메뉴를 선택하시오:\n",
      "메뉴:1-콜라:500원, 2-사이다:500원, 3-커피:1000원, 4-과자:1500원\n",
      "사이다 500원 입니다.\n"
     ]
    }
   ],
   "source": [
    "print(\"메뉴를 선택하시오:\\n메뉴:1-콜라:500원, 2-사이다:500원, 3-커피:1000원, 4-과자:1500원\")\n",
    "selection = int(input(\"메뉴 선택 > \"))\n",
    "\n",
    "if selection == 1:\n",
    "    print(\"콜라 500원 입니다.\")\n",
    "elif selection == 2:\n",
    "    print(\"사이다 500원 입니다.\")\n",
    "elif selection == 3:\n",
    "    print(\"커피 1000원 입니다.\")\n",
    "elif selection == 4:\n",
    "    print(\"과자 1500원 입니다.\")\n",
    "else:\n",
    "    print(\"메뉴에 없습니다.\")"
   ]
  },
  {
   "cell_type": "code",
   "execution_count": 2,
   "metadata": {},
   "outputs": [
    {
     "name": "stdout",
     "output_type": "stream",
     "text": [
      "unsi- 0, sini - -1, bin - 0b0\n",
      "unsi- 1, sini - -2, bin - 0b1\n",
      "unsi- 2, sini - -3, bin - 0b10\n",
      "unsi- 3, sini - -4, bin - 0b11\n",
      "unsi- 4, sini - -5, bin - 0b100\n",
      "unsi- 5, sini - -6, bin - 0b101\n",
      "unsi- 6, sini - -7, bin - 0b110\n",
      "unsi- 7, sini - -8, bin - 0b111\n",
      "unsi- 8, sini - -9, bin - 0b1000\n",
      "unsi- 9, sini - -10, bin - 0b1001\n",
      "unsi- 10, sini - -11, bin - 0b1010\n",
      "unsi- 11, sini - -12, bin - 0b1011\n",
      "unsi- 12, sini - -13, bin - 0b1100\n",
      "unsi- 13, sini - -14, bin - 0b1101\n",
      "unsi- 14, sini - -15, bin - 0b1110\n",
      "unsi- 15, sini - -16, bin - 0b1111\n"
     ]
    }
   ],
   "source": [
    "for i in range(16):\n",
    "    print(\"unsi- {}, sini - {}, bin - {}\".format(i, ~(i), bin(i)))"
   ]
  }
 ],
 "metadata": {
  "kernelspec": {
   "display_name": "Python 3",
   "language": "python",
   "name": "python3"
  },
  "language_info": {
   "codemirror_mode": {
    "name": "ipython",
    "version": 3
   },
   "file_extension": ".py",
   "mimetype": "text/x-python",
   "name": "python",
   "nbconvert_exporter": "python",
   "pygments_lexer": "ipython3",
   "version": "3.10.12"
  }
 },
 "nbformat": 4,
 "nbformat_minor": 2
}
