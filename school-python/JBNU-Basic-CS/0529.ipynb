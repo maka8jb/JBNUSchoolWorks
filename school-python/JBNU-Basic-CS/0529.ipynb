{
 "cells": [
  {
   "cell_type": "code",
   "execution_count": null,
   "metadata": {},
   "outputs": [],
   "source": [
    "def gcd(a, b):\n",
    "   if b == 0:\n",
    "      return a\n",
    "   else:\n",
    "      return gcd(b, a%b)\n",
    "\n",
    "print(gcd(270, 192))"
   ]
  }
 ],
 "metadata": {
  "kernelspec": {
   "display_name": "Python 3",
   "language": "python",
   "name": "python3"
  },
  "language_info": {
   "name": "python",
   "version": "3.10.12"
  }
 },
 "nbformat": 4,
 "nbformat_minor": 2
}
