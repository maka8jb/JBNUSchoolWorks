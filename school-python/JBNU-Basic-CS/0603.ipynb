{
 "cells": [
  {
   "cell_type": "markdown",
   "metadata": {},
   "source": [
    "# 2024-06-03"
   ]
  },
  {
   "cell_type": "code",
   "execution_count": 9,
   "metadata": {},
   "outputs": [
    {
     "name": "stdout",
     "output_type": "stream",
     "text": [
      "fib(10)을 구합니다.\n",
      "fib(9)을 구합니다.\n",
      "fib(8)을 구합니다.\n",
      "fib(7)을 구합니다.\n",
      "fib(6)을 구합니다.\n",
      "fib(5)을 구합니다.\n",
      "fib(4)을 구합니다.\n",
      "fib(3)을 구합니다.\n",
      "fib(2)을 구합니다.\n",
      "fib(1)을 구합니다.\n",
      "fib(2)을 구합니다.\n",
      "fib(3)을 구합니다.\n",
      "fib(4)을 구합니다.\n",
      "fib(5)을 구합니다.\n",
      "fib(6)을 구합니다.\n",
      "fib(7)을 구합니다.\n",
      "fib(8)을 구합니다.\n",
      "55\n",
      "17회 반복됨.\n"
     ]
    }
   ],
   "source": [
    "counter = 0\n",
    "\n",
    "memo = {\n",
    "    1: 1,\n",
    "    2: 1,\n",
    "}\n",
    "\n",
    "def countfib(n):\n",
    "    global counter\n",
    "    global memo\n",
    "    \n",
    "    print(f\"fib({n})을 구합니다.\")\n",
    "    counter += 1\n",
    "\n",
    "    if n in memo:\n",
    "        return memo[n]\n",
    "    else:\n",
    "        output = countfib(n - 1) + countfib(n - 2)\n",
    "        memo[n] = output\n",
    "        return output\n",
    "\n",
    "print(countfib(10))\n",
    "print(f\"{counter}회 반복됨.\")"
   ]
  },
  {
   "cell_type": "code",
   "execution_count": 10,
   "metadata": {},
   "outputs": [
    {
     "data": {
      "text/plain": [
       "[1, 2, 3, 4, 5, 6, 7, 8, 9]"
      ]
     },
     "execution_count": 10,
     "metadata": {},
     "output_type": "execute_result"
    }
   ],
   "source": [
    "def flatrecc(data):\n",
    "    il = list()\n",
    "    for x in data:\n",
    "        if type(x) == list:\n",
    "            il.extend(flatrecc(x))\n",
    "        else:\n",
    "            il.append(x)\n",
    "\n",
    "    return il\n",
    "\n",
    "flatrecc([[1, 2, 3], [4, [5, 6]], 7, [8, 9]])"
   ]
  }
 ],
 "metadata": {
  "kernelspec": {
   "display_name": "Python 3",
   "language": "python",
   "name": "python3"
  },
  "language_info": {
   "codemirror_mode": {
    "name": "ipython",
    "version": 3
   },
   "file_extension": ".py",
   "mimetype": "text/x-python",
   "name": "python",
   "nbconvert_exporter": "python",
   "pygments_lexer": "ipython3",
   "version": "3.10.12"
  }
 },
 "nbformat": 4,
 "nbformat_minor": 2
}
