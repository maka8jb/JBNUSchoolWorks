{
 "cells": [
  {
   "cell_type": "markdown",
   "metadata": {},
   "source": [
    "# 2024-05-27"
   ]
  },
  {
   "cell_type": "code",
   "execution_count": 4,
   "metadata": {},
   "outputs": [
    {
     "name": "stdout",
     "output_type": "stream",
     "text": [
      "total sum: 39\n",
      "sum: 55\n"
     ]
    }
   ],
   "source": [
    "def my_sum(*inputs):\n",
    "    x = 0\n",
    "    for t in inputs:\n",
    "        x += t\n",
    "    return x\n",
    "\n",
    "box = my_sum(5, 7, 8, 9, 1, 2, 3, 4)\n",
    "print(f\"total sum: {box}\")\n",
    "\n",
    "xt = list()\n",
    "rmp = int(input(\"how much?: \"))\n",
    "for _ in range(rmp):\n",
    "    xt.append(int(input(\"> \")))\n",
    "print(\"sum:\", my_sum(*xt))"
   ]
  },
  {
   "cell_type": "code",
   "execution_count": 5,
   "metadata": {},
   "outputs": [
    {
     "name": "stdout",
     "output_type": "stream",
     "text": [
      "None\n"
     ]
    }
   ],
   "source": [
    "def nilfunc():\n",
    "    return\n",
    "\n",
    "nfb = nilfunc()\n",
    "print(nfb)"
   ]
  },
  {
   "cell_type": "code",
   "execution_count": 6,
   "metadata": {},
   "outputs": [],
   "source": [
    "a = 11\n",
    "b = [1, 2, 3, 4]"
   ]
  },
  {
   "cell_type": "code",
   "execution_count": 7,
   "metadata": {},
   "outputs": [
    {
     "name": "stdout",
     "output_type": "stream",
     "text": [
      "121\n"
     ]
    }
   ],
   "source": [
    "def thatformular(x):\n",
    "    return (x**2) + (2 * x) + 1\n",
    "\n",
    "print(thatformular(10))"
   ]
  },
  {
   "cell_type": "code",
   "execution_count": 13,
   "metadata": {},
   "outputs": [
    {
     "name": "stdout",
     "output_type": "stream",
     "text": [
      "결과는 15120입니다.\n"
     ]
    }
   ],
   "source": [
    "def mult(*vals):\n",
    "    q = 1\n",
    "    for x in vals:\n",
    "        q *= x\n",
    "    return q\n",
    "\n",
    "qt = mult(5, 6, 7, 8, 9)\n",
    "print(f\"결과는 {qt}입니다.\")"
   ]
  },
  {
   "cell_type": "code",
   "execution_count": 9,
   "metadata": {},
   "outputs": [
    {
     "name": "stdout",
     "output_type": "stream",
     "text": [
      "['600 ', ' 2']\n",
      "[2.0]\n",
      "1200.0\n"
     ]
    }
   ],
   "source": [
    "def calcs(sinput):\n",
    "    oper = \"\"\n",
    "    targets = list()\n",
    "\n",
    "    spopers = [\"+\", \"-\", \"/\", \"*\"]\n",
    "    for px in spopers:\n",
    "        if px in str(sinput):\n",
    "            oper = px\n",
    "            tp = str(sinput).split(px)\n",
    "            for q in tp:\n",
    "                targets.append(float(q))\n",
    "            print(tp)\n",
    "\n",
    "    if oper == \"\":\n",
    "        return \"ERR: cannot find operator\"\n",
    "\n",
    "    result = targets[0]\n",
    "    targets = targets[1:]\n",
    "    print(targets)\n",
    "    for q in targets:\n",
    "        if oper == \"+\":\n",
    "            result += q\n",
    "        elif oper == \"-\":\n",
    "            result -= q\n",
    "        elif oper == \"*\":\n",
    "            result *= q\n",
    "        elif oper == \"/\":\n",
    "            result /= q\n",
    "\n",
    "    return result\n",
    "\n",
    "            \n",
    "print(calcs(input(\"> \")))"
   ]
  },
  {
   "cell_type": "code",
   "execution_count": 35,
   "metadata": {},
   "outputs": [
    {
     "name": "stdout",
     "output_type": "stream",
     "text": [
      "['6/4', '2']\n",
      "6/4 +\n",
      "6/4 -\n",
      "6/4 /\n",
      "true\n",
      "['6', '4']\n",
      "6 +\n",
      "6 -\n",
      "6 /\n",
      "6 *\n",
      "4 +\n",
      "4 -\n",
      "4 /\n",
      "4 *\n",
      "2 +\n",
      "2 -\n",
      "2 /\n",
      "2 *\n",
      "['/', '6', '/', '4', '+', '2']\n",
      "None\n"
     ]
    }
   ],
   "source": [
    "def eqparse(stx):\n",
    "    targets = list()\n",
    "\n",
    "    spopers = [\"+\", \"-\", \"/\", \"*\"]\n",
    "\n",
    "    for px in spopers:\n",
    "        if px in str(stx):\n",
    "            splited = str(stx).split(px)\n",
    "            print(splited)\n",
    "\n",
    "            for spi in splited:\n",
    "                for xt in spopers:\n",
    "                    print(spi, xt)\n",
    "                    if xt in spi:\n",
    "                        print(\"true\")\n",
    "                        targets.extend(eqparse(spi))\n",
    "                        break\n",
    "                else:\n",
    "                    targets.append(px)\n",
    "                    targets.append(spi)\n",
    "                    \n",
    "            break\n",
    "            \n",
    "    return targets\n",
    "\n",
    "def bettercalc(ip):\n",
    "    sv = eqparse(ip)\n",
    "    print(sv)\n",
    "\n",
    "print(bettercalc(input()))"
   ]
  },
  {
   "cell_type": "code",
   "execution_count": 21,
   "metadata": {},
   "outputs": [
    {
     "name": "stdout",
     "output_type": "stream",
     "text": [
      "120\n"
     ]
    }
   ],
   "source": [
    "def fact(x):\n",
    "    if x == 0:\n",
    "        return 1\n",
    "    else:\n",
    "        return fact(x - 1) * x\n",
    "\n",
    "print(fact(5))"
   ]
  },
  {
   "cell_type": "code",
   "execution_count": 39,
   "metadata": {},
   "outputs": [
    {
     "name": "stdout",
     "output_type": "stream",
     "text": [
      "9227465\n"
     ]
    }
   ],
   "source": [
    "def fib(n):\n",
    "    if n == 1:\n",
    "        return n\n",
    "    elif n == 2:\n",
    "        return 1\n",
    "    else:\n",
    "        return fib(n - 1) + fib(n - 2)\n",
    "\n",
    "print(fib(35))"
   ]
  },
  {
   "cell_type": "code",
   "execution_count": 38,
   "metadata": {},
   "outputs": [
    {
     "name": "stdout",
     "output_type": "stream",
     "text": [
      "9227465\n"
     ]
    }
   ],
   "source": [
    "fibmem = {\n",
    "    1: 1,\n",
    "    2: 1,\n",
    "}\n",
    "\n",
    "def memorized_fib(n):\n",
    "    if n in fibmem:\n",
    "        return fibmem[n]\n",
    "    else:\n",
    "        output = memorized_fib(n - 1) + memorized_fib(n - 2)\n",
    "        fibmem[n] = output\n",
    "        return output\n",
    "\n",
    "print(memorized_fib(35))"
   ]
  },
  {
   "cell_type": "code",
   "execution_count": 42,
   "metadata": {},
   "outputs": [
    {
     "name": "stdout",
     "output_type": "stream",
     "text": [
      "NO MEMORIZED: 2.038271903991699sec\n",
      "MEMEORIZED: 4.458427429199219e-05sec\n"
     ]
    }
   ],
   "source": [
    "import time\n",
    "\n",
    "nmefibb = time.time()\n",
    "fib(35)\n",
    "nmefiba = time.time()\n",
    "\n",
    "nmefib = nmefiba - nmefibb\n",
    "\n",
    "amefibb = time.time()\n",
    "memorized_fib(35)\n",
    "amefiba = time.time()\n",
    "\n",
    "amefib = amefiba - amefibb\n",
    "\n",
    "print(\"NO MEMORIZED:\", f\"{nmefib}sec\")\n",
    "print(\"MEMEORIZED:\", f\"{amefib}sec\")"
   ]
  },
  {
   "cell_type": "code",
   "execution_count": 2,
   "metadata": {},
   "outputs": [
    {
     "name": "stdout",
     "output_type": "stream",
     "text": [
      "[1, 2, 3, 4, 5, 6, 7, 8, 9]\n"
     ]
    }
   ],
   "source": [
    "def flatrecc(data):\n",
    "    il = list()\n",
    "    for x in data:\n",
    "        if type(x) == list:\n",
    "            il.extend(flatrecc(x))\n",
    "        else:\n",
    "            il.append(x)\n",
    "\n",
    "    return il\n",
    "\n",
    "\n",
    "print(flatrecc([[1, 2], 3, 4, [5, [6, 7, 8]], 9]))"
   ]
  }
 ],
 "metadata": {
  "kernelspec": {
   "display_name": "Python 3",
   "language": "python",
   "name": "python3"
  },
  "language_info": {
   "codemirror_mode": {
    "name": "ipython",
    "version": 3
   },
   "file_extension": ".py",
   "mimetype": "text/x-python",
   "name": "python",
   "nbconvert_exporter": "python",
   "pygments_lexer": "ipython3",
   "version": "3.10.12"
  }
 },
 "nbformat": 4,
 "nbformat_minor": 2
}
