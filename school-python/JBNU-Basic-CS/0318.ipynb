{
 "cells": [
  {
   "cell_type": "markdown",
   "metadata": {},
   "source": [
    "# 2024-03-18"
   ]
  },
  {
   "cell_type": "markdown",
   "metadata": {},
   "source": [
    "#### assign <br />\n",
    "**variable = value** 방식으로 값 넣음\n",
    "\n",
    "#### variable operator\n",
    " - += 가산\n",
    " - -= 감산\n",
    " - *= 곱\n",
    " - /= 나눔\n",
    " - %= 나눔의 나머지\n",
    " - **= pow"
   ]
  },
  {
   "cell_type": "code",
   "execution_count": 9,
   "metadata": {},
   "outputs": [
    {
     "name": "stdout",
     "output_type": "stream",
     "text": [
      "shit\n"
     ]
    }
   ],
   "source": [
    "string = input(\"인사말을 입력하세요: \")\n",
    "print(string)"
   ]
  },
  {
   "cell_type": "code",
   "execution_count": 11,
   "metadata": {},
   "outputs": [
    {
     "name": "stdout",
     "output_type": "stream",
     "text": [
      "login prompt\n",
      "Username: foo \n",
      "Password: bar\n"
     ]
    }
   ],
   "source": [
    "print(\"login prompt\")\n",
    "uname = input(\"username: \")\n",
    "psword = input(\"password: \")\n",
    "\n",
    "print(\"Username:\", uname, \"\\nPassword:\", psword)"
   ]
  },
  {
   "cell_type": "code",
   "execution_count": 13,
   "metadata": {},
   "outputs": [
    {
     "name": "stdout",
     "output_type": "stream",
     "text": [
      "<class 'str'>\n"
     ]
    }
   ],
   "source": [
    "foo = input(\"아무 말이나 입력하시오.\")\n",
    "print(type(foo))"
   ]
  },
  {
   "cell_type": "code",
   "execution_count": 12,
   "metadata": {},
   "outputs": [
    {
     "name": "stdout",
     "output_type": "stream",
     "text": [
      "sum of two numbers\n",
      "5 + 4 = 9\n"
     ]
    }
   ],
   "source": [
    "print(\"sum of two numbers\")\n",
    "n1 = int(input(\"number one:\"))\n",
    "n2 = int(input(\"number two:\"))\n",
    "\n",
    "print(n1, \"+\", n2, \"=\", n1+n2)"
   ]
  },
  {
   "cell_type": "markdown",
   "metadata": {},
   "source": [
    "#### type casting\n",
    "- int() \n",
    "- float()\n",
    "- str()"
   ]
  },
  {
   "cell_type": "code",
   "execution_count": 16,
   "metadata": {},
   "outputs": [
    {
     "name": "stdout",
     "output_type": "stream",
     "text": [
      "위대한 임페리얼 단위계를 불경하고 교양없는 SI 단위계로 변환하기\n",
      "15.4\" to 39.116cm\n"
     ]
    }
   ],
   "source": [
    "print(\"위대한 임페리얼 단위계를 불경하고 교양없는 SI 단위계로 변환하기\")\n",
    "\n",
    "inh = float(input(\"inch: \"))\n",
    "result = inh * 2.54\n",
    "\n",
    "print(str(inh)+\"\\\" to \"+str(result)+\"cm\")"
   ]
  },
  {
   "cell_type": "markdown",
   "metadata": {},
   "source": [
    "#### python format()\n",
    "format()은 입력된 값을 string patten에 맞추어 값을 넣어 formating해주는 method. <br />\n",
    "<small>~~0부터 시작하는 코사인함수~~</small>"
   ]
  },
  {
   "cell_type": "code",
   "execution_count": 17,
   "metadata": {},
   "outputs": [
    {
     "name": "stdout",
     "output_type": "stream",
     "text": [
      "1 2 3\n"
     ]
    }
   ],
   "source": [
    "print(\"{} {} {}\".format(1, 2, 3))"
   ]
  },
  {
   "cell_type": "code",
   "execution_count": 18,
   "metadata": {},
   "outputs": [
    {
     "name": "stdout",
     "output_type": "stream",
     "text": [
      "sum of two numbers\n",
      "5 + 4 = 9\n"
     ]
    }
   ],
   "source": [
    "print(\"sum of two numbers\")\n",
    "n1 = int(input(\"number one:\"))\n",
    "n2 = int(input(\"number two:\"))\n",
    "\n",
    "print(\"{} + {} = {}\".format(n1, n2, n1+n2))"
   ]
  },
  {
   "cell_type": "code",
   "execution_count": 20,
   "metadata": {},
   "outputs": [
    {
     "name": "stdout",
     "output_type": "stream",
     "text": [
      "1, 3, 2\n",
      "and also 4 + 5 = 9\n"
     ]
    }
   ],
   "source": [
    "# named format index\n",
    "print(\"{0}, {2}, {1}\".format(1, 2, 3))\n",
    "print(\"and also {1} + {0} = {2}\".format(n1, n2, n1+n2))"
   ]
  },
  {
   "cell_type": "code",
   "execution_count": 35,
   "metadata": {},
   "outputs": [
    {
     "name": "stdout",
     "output_type": "stream",
     "text": [
      "42\n",
      "   42\n",
      "     42\n",
      "00042\n",
      "-0042\n",
      " 42\n",
      "-42\n",
      "+42\n",
      "-42\n",
      "   42\n",
      "-  42\n",
      "           42.4\n",
      "             42\n"
     ]
    }
   ],
   "source": [
    "# 정수임을 표기하기\n",
    "outp = \"{:d}\".format(42)\n",
    "print(outp)\n",
    "\n",
    "# 특정 칸에 표기하기\n",
    "outp_1 = \"{:5d}\".format(42)\n",
    "outp_2 = \"{:7}\".format(42)\n",
    "\n",
    "print(outp_1)\n",
    "print(outp_2)\n",
    "\n",
    "# 빈칸을 0으로 채우기\n",
    "outp_3 = \"{:05}\".format(42)\n",
    "outp_4 = \"{:05d}\".format(-42)\n",
    "\n",
    "print(outp_3)\n",
    "print(outp_4)\n",
    "\n",
    "# 부호와 함께 출력\n",
    "outp_5 = \"{: d}\".format(42) #양수일 경우 부호 없앰\n",
    "outp_6 = \"{: d}\".format(-42)\n",
    "\n",
    "print(outp_5)\n",
    "print(outp_6)\n",
    "\n",
    "outp_5 = \"{:+d}\".format(42) #양수여도 부호와 함께 표기\n",
    "outp_6 = \"{:+d}\".format(-42)\n",
    "\n",
    "print(outp_5)\n",
    "print(outp_6)\n",
    "\n",
    "outp_5 = \"{:=5d}\".format(42)\n",
    "outp_6 = \"{:=5d}\".format(-42)\n",
    "\n",
    "print(outp_5)\n",
    "print(outp_6)\n",
    "\n",
    "# 소수점 출력 제어\n",
    "\n",
    "outp_7 = \"{:15.1f}\".format(42.42)\n",
    "outp_8 = \"{:15g}\".format(42.000) # 뒤에 0 제거\n",
    "\n",
    "print(outp_7)\n",
    "print(outp_8)"
   ]
  },
  {
   "cell_type": "code",
   "execution_count": 36,
   "metadata": {},
   "outputs": [
    {
     "name": "stdout",
     "output_type": "stream",
     "text": [
      "5 + 4 = 9\n"
     ]
    }
   ],
   "source": [
    "# f string\n",
    "print(f\"{n1} + {n2} = {n1 + n2}\")"
   ]
  },
  {
   "cell_type": "code",
   "execution_count": 41,
   "metadata": {},
   "outputs": [
    {
     "name": "stdout",
     "output_type": "stream",
     "text": [
      "HELLO WORLD FROM PYHTON WORLD!\n",
      "hello world from pyhton world!\n",
      "HElloWlrd!\n",
      "HElloWlrd!      \n",
      "     HElloWlrd!\n"
     ]
    }
   ],
   "source": [
    "# UPPER & LOWER\n",
    "a = \"Hello World from Pyhton World!\"\n",
    "\n",
    "print(a.upper())\n",
    "print(a.lower())\n",
    "\n",
    "# strip\n",
    "b = \"     HElloWlrd!      \"\n",
    "\n",
    "print(b.strip())\n",
    "print(b.lstrip())\n",
    "print(b.rstrip())"
   ]
  },
  {
   "cell_type": "code",
   "execution_count": 47,
   "metadata": {},
   "outputs": [
    {
     "name": "stdout",
     "output_type": "stream",
     "text": [
      "0\n",
      "13\n",
      "False\n",
      "True\n",
      "['10', '20', '30', '40', '50', '60', '70', '80']\n"
     ]
    }
   ],
   "source": [
    "# find search\n",
    "\n",
    "hl = \"안녕하십시오 세계 빨리 안녕하십시오 감사합니다\"\n",
    "print(hl.find(\"안녕\"))\n",
    "print(hl.rfind(\"안녕\")) # search from right\n",
    "\n",
    "print(\"밥\" in hl)\n",
    "print(\"감사\" in hl)\n",
    "\n",
    "# split\n",
    "sp = \"10 20 30 40 50 60 70 80\"\n",
    "print(sp.split(\" \"))"
   ]
  },
  {
   "cell_type": "markdown",
   "metadata": {},
   "source": [
    "## 도 전 문 제"
   ]
  },
  {
   "cell_type": "code",
   "execution_count": 57,
   "metadata": {},
   "outputs": [
    {
     "name": "stdout",
     "output_type": "stream",
     "text": [
      "반지름: 5.0\n",
      "겉넓이: 314.1592653589793\n",
      "부피: 523.5987755982989\n"
     ]
    }
   ],
   "source": [
    "import math\n",
    "\n",
    "rad = float(input(\"radius: \"))\n",
    "vol = (4/3) * math.pi * (rad ** 3)\n",
    "space = 4 * math.pi * (rad ** 2)\n",
    "\n",
    "print(f\"반지름: {rad}\")\n",
    "print(f\"겉넓이: {space}\")\n",
    "print(f\"부피: {vol}\")"
   ]
  },
  {
   "cell_type": "code",
   "execution_count": 59,
   "metadata": {},
   "outputs": [
    {
     "name": "stdout",
     "output_type": "stream",
     "text": [
      "밑변: 3.0, 높이: 4.0\n",
      "빗변: 5.0\n",
      "빗변: 5.0\n",
      "빗변: 5.0\n"
     ]
    }
   ],
   "source": [
    "import math\n",
    "\n",
    "a = float(input(\"a: \"))\n",
    "b = float(input(\"b: \"))\n",
    "\n",
    "print(\"밑변: {}, 높이: {}\".format(a, b))\n",
    "print(f\"빗변: {math.sqrt((a ** 2) + (b ** 2))}\")\n",
    "\n",
    "# mathless\n",
    "print(f\"빗변: {((a ** 2) + (b ** 2)) ** 0.5}\")\n",
    "\n",
    "print(f\"빗변: {math.sqrt(math.pow(a, 2) + math.pow(b, 2))}\")\n"
   ]
  },
  {
   "cell_type": "code",
   "execution_count": 1,
   "metadata": {},
   "outputs": [
    {
     "name": "stdout",
     "output_type": "stream",
     "text": [
      "    MENU  VOTE       (%)\n",
      "------------------------\n",
      "   JUICE     5      88.9\n",
      "  COFFEE     7      74.6\n",
      "     TEA     3      67.9\n"
     ]
    }
   ],
   "source": [
    "print(\"{:>8}{:>6}{:>10}\".format(\"MENU\", \"VOTE\", \"(%)\"))\n",
    "print(\"-\"*24)\n",
    "print(\"{:>8}{:>6n}{:>10.1f}\".format(\"JUICE\", 5, 88.9))\n",
    "print(\"{:>8}{:>6n}{:>10.1f}\".format(\"COFFEE\", 7, 74.6))\n",
    "print(\"{:>8}{:>6n}{:>10.1f}\".format(\"TEA\", 3, 67.9))"
   ]
  }
 ],
 "metadata": {
  "kernelspec": {
   "display_name": "Python 3",
   "language": "python",
   "name": "python3"
  },
  "language_info": {
   "codemirror_mode": {
    "name": "ipython",
    "version": 3
   },
   "file_extension": ".py",
   "mimetype": "text/x-python",
   "name": "python",
   "nbconvert_exporter": "python",
   "pygments_lexer": "ipython3",
   "version": "3.10.12"
  }
 },
 "nbformat": 4,
 "nbformat_minor": 2
}
