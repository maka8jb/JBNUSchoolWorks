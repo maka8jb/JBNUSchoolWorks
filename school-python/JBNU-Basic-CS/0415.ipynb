{
 "cells": [
  {
   "cell_type": "markdown",
   "metadata": {},
   "source": [
    "# 2024-04-15"
   ]
  },
  {
   "cell_type": "code",
   "execution_count": 1,
   "metadata": {},
   "outputs": [
    {
     "name": "stdout",
     "output_type": "stream",
     "text": [
      "True\n"
     ]
    }
   ],
   "source": [
    "print(type(\"STR\") is str)"
   ]
  },
  {
   "cell_type": "code",
   "execution_count": 17,
   "metadata": {},
   "outputs": [
    {
     "name": "stdout",
     "output_type": "stream",
     "text": [
      "name : 기사\n",
      "level : 12\n",
      "sword : 불꽃의 검\n",
      "armor : 풀플레이트\n",
      "skill : 베기\n",
      "skill : 세게 베기\n",
      "skill : 아주 세게 베기\n",
      "\n",
      "학생1:\n",
      "학번: 1111\n",
      "이름: 홍길동\n",
      "\n",
      "학생2:\n",
      "학번: 1112\n",
      "이름: 이순신\n",
      "\n"
     ]
    }
   ],
   "source": [
    "character = {\n",
    "    \"name\": \"기사\",\n",
    "    \"level\": 12,\n",
    "    \"items\": {\n",
    "        \"sword\": \"불꽃의 검\",\n",
    "        \"armor\": \"풀플레이트\"\n",
    "    },\n",
    "    \"skill\": [\"베기\", \"세게 베기\", \"아주 세게 베기\"]\n",
    "}\n",
    "\n",
    "\n",
    "ldict = {\n",
    "    \"학생1\": {\"학번\": 1111, \"이름\": \"홍길동\"},\n",
    "    \"학생2\": {\"학번\": 1112, \"이름\": \"이순신\"}\n",
    "}\n",
    "\n",
    "for key in character:\n",
    "    if type(character[key]) is dict:\n",
    "        for lkey in character[key]:\n",
    "            print(f\"{lkey} : {character[key][lkey]}\")\n",
    "    elif type(character[key]) is list:\n",
    "        for lval in character[key]:\n",
    "            print(f\"{key} : {lval}\")\n",
    "    else:\n",
    "        print(f\"{key} : {character[key]}\")\n",
    "\n",
    "print(\"\")\n",
    "\n",
    "for key in ldict:\n",
    "    print(f\"{key}:\")\n",
    "    for x in ldict[key]:\n",
    "        print(f\"{x}: {ldict[key][x]}\")\n",
    "    print()"
   ]
  },
  {
   "cell_type": "code",
   "execution_count": 11,
   "metadata": {},
   "outputs": [
    {
     "name": "stdout",
     "output_type": "stream",
     "text": [
      "True\n",
      "True\n",
      "['False', 'None', 'True', 'and', 'as', 'assert', 'async', 'await', 'break', 'class', 'continue', 'def', 'del', 'elif', 'else', 'except', 'finally', 'for', 'from', 'global', 'if', 'import', 'in', 'is', 'lambda', 'nonlocal', 'not', 'or', 'pass', 'raise', 'return', 'try', 'while', 'with', 'yield']\n"
     ]
    }
   ],
   "source": [
    "nth = dict()\n",
    "\n",
    "print(type(nth) == dict)\n",
    "print(type(nth) is dict)\n",
    "\n",
    "import keyword\n",
    "\n",
    "print(keyword.kwlist)"
   ]
  },
  {
   "cell_type": "code",
   "execution_count": 21,
   "metadata": {},
   "outputs": [
    {
     "data": {
      "text/plain": [
       "range(0, 10, 2)"
      ]
     },
     "execution_count": 21,
     "metadata": {},
     "output_type": "execute_result"
    }
   ],
   "source": [
    "range(0, 5)\n",
    "range(5, 10)\n",
    "range(0, 10, 2)"
   ]
  },
  {
   "cell_type": "code",
   "execution_count": 22,
   "metadata": {},
   "outputs": [
    {
     "name": "stdout",
     "output_type": "stream",
     "text": [
      "[1, 1]\n"
     ]
    }
   ],
   "source": [
    "twos = [1, 2, 1, 2]\n",
    "target = 2\n",
    "\n",
    "while target in twos:\n",
    "    twos.remove(target)\n",
    "\n",
    "print(twos)"
   ]
  },
  {
   "cell_type": "code",
   "execution_count": 35,
   "metadata": {},
   "outputs": [
    {
     "name": "stdout",
     "output_type": "stream",
     "text": [
      "{'name': '기사', 'hp': 200, 'mp': 30, 'level': 5}\n",
      "{'level': 5, 'mp': 30, 'hp': 200, 'name': '기사'}\n"
     ]
    }
   ],
   "source": [
    "key_list = [\"name\", \"hp\", \"mp\", \"level\"]\n",
    "value_list = [\"기사\", 200, 30, 5]\n",
    "char = {}\n",
    "chav = {}\n",
    "\n",
    "for i in range(len(key_list)):\n",
    "    char[key_list[i]] = value_list[i]\n",
    "\n",
    "print(char)\n",
    "\n",
    "while len(key_list) > 0:\n",
    "    name = key_list.pop()\n",
    "    chav[name] = value_list.pop()\n",
    "\n",
    "\n",
    "print(chav)\n"
   ]
  },
  {
   "cell_type": "code",
   "execution_count": 39,
   "metadata": {},
   "outputs": [
    {
     "name": "stdout",
     "output_type": "stream",
     "text": [
      "141를 더할 때 10000을 넘으며 그 값은 10011입니다.\n"
     ]
    }
   ],
   "source": [
    "limit = 10000\n",
    "i = 1\n",
    "\n",
    "sum_value = 0\n",
    "\n",
    "while True:\n",
    "    sum_value += i\n",
    "    if sum_value > limit:\n",
    "        break\n",
    "    i += 1\n",
    "\n",
    "print(f\"{i}를 더할 때 {limit}을 넘으며 그 값은 {sum_value}입니다.\")"
   ]
  },
  {
   "cell_type": "code",
   "execution_count": 40,
   "metadata": {},
   "outputs": [
    {
     "name": "stdout",
     "output_type": "stream",
     "text": [
      "8를 더할 때 25를 3만큼 초과하며 그 값은 28이다.\n"
     ]
    }
   ],
   "source": [
    "q = 0\n",
    "sum_x = 0\n",
    "\n",
    "for i in range(25):\n",
    "    sum_x += i\n",
    "    q += 1\n",
    "    if sum_x > 25:\n",
    "        break\n",
    "\n",
    "print(f\"{q}를 더할 때 25를 {sum_x - 25}만큼 초과하며 그 값은 {sum_x}이다.\")"
   ]
  }
 ],
 "metadata": {
  "kernelspec": {
   "display_name": "Python 3",
   "language": "python",
   "name": "python3"
  },
  "language_info": {
   "codemirror_mode": {
    "name": "ipython",
    "version": 3
   },
   "file_extension": ".py",
   "mimetype": "text/x-python",
   "name": "python",
   "nbconvert_exporter": "python",
   "pygments_lexer": "ipython3",
   "version": "3.10.12"
  }
 },
 "nbformat": 4,
 "nbformat_minor": 2
}
