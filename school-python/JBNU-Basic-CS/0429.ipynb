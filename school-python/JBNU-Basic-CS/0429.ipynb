{
 "cells": [
  {
   "cell_type": "markdown",
   "metadata": {},
   "source": [
    "# 2024-04-29"
   ]
  },
  {
   "cell_type": "code",
   "execution_count": 8,
   "metadata": {},
   "outputs": [
    {
     "name": "stdout",
     "output_type": "stream",
     "text": [
      "35\n",
      "35.456000\n"
     ]
    },
    {
     "ename": "TypeError",
     "evalue": "not enough arguments for format string",
     "output_type": "error",
     "traceback": [
      "\u001b[0;31m---------------------------------------------------------------------------\u001b[0m",
      "\u001b[0;31mTypeError\u001b[0m                                 Traceback (most recent call last)",
      "Cell \u001b[0;32mIn[8], line 5\u001b[0m\n\u001b[1;32m      3\u001b[0m \u001b[38;5;28mprint\u001b[39m(\u001b[38;5;124m\"\u001b[39m\u001b[38;5;132;01m%d\u001b[39;00m\u001b[38;5;124m\"\u001b[39m \u001b[38;5;241m%\u001b[39m (\u001b[38;5;241m35.456\u001b[39m))\n\u001b[1;32m      4\u001b[0m \u001b[38;5;28mprint\u001b[39m(\u001b[38;5;124m\"\u001b[39m\u001b[38;5;132;01m%f\u001b[39;00m\u001b[38;5;124m\"\u001b[39m \u001b[38;5;241m%\u001b[39m (\u001b[38;5;241m35.456\u001b[39m))\n\u001b[0;32m----> 5\u001b[0m \u001b[38;5;28mprint\u001b[39m(\u001b[38;5;124;43m\"\u001b[39;49m\u001b[38;5;132;43;01m%d\u001b[39;49;00m\u001b[38;5;124;43m \u001b[39;49m\u001b[38;5;132;43;01m%d\u001b[39;49;00m\u001b[38;5;124;43m\"\u001b[39;49m\u001b[43m \u001b[49m\u001b[38;5;241;43m%\u001b[39;49m\u001b[43m \u001b[49m\u001b[43m(\u001b[49m\u001b[38;5;241;43m500\u001b[39;49m\u001b[43m)\u001b[49m)\n",
      "\u001b[0;31mTypeError\u001b[0m: not enough arguments for format string"
     ]
    }
   ],
   "source": [
    "# 3.24 + int(5.82) % 2\n",
    "\n",
    "print(\"%d\" % (35.456))\n",
    "print(\"%f\" % (35.456))\n",
    "print(\"%d %d\" % (500))\n"
   ]
  },
  {
   "cell_type": "code",
   "execution_count": 11,
   "metadata": {},
   "outputs": [
    {
     "name": "stdout",
     "output_type": "stream",
     "text": [
      "1, 1\n"
     ]
    }
   ],
   "source": [
    "sumx = 0\n",
    "\n",
    "for i in range(1, 11, 3):\n",
    "    sumx += i\n",
    "    if sumx >= 1: \n",
    "        break\n",
    "print(f\"{i}, {sumx}\")"
   ]
  },
  {
   "cell_type": "code",
   "execution_count": 3,
   "metadata": {},
   "outputs": [
    {
     "name": "stdout",
     "output_type": "stream",
     "text": [
      "min: 32, max: 273, sum: 537\n",
      "max: 273 min: 32\n",
      "sum: 537\n"
     ]
    }
   ],
   "source": [
    "la = [103, 52, 273, 32, 77]\n",
    "\n",
    "print(f\"min: {min(la)}, max: {max(la)}, sum: {sum(la)}\")\n",
    "\n",
    "maxval = 0\n",
    "for i in la:\n",
    "    if i > maxval:\n",
    "        maxval = i\n",
    "\n",
    "minval = la[0]\n",
    "for i in la:\n",
    "    if i < minval :\n",
    "        minval = i\n",
    "\n",
    "print(f\"max: {maxval} min: {minval}\")\n",
    "\n",
    "summers = 0\n",
    "for i in la:\n",
    "    summers += i\n",
    "\n",
    "print(f\"sum: {summers}\")"
   ]
  },
  {
   "cell_type": "code",
   "execution_count": 5,
   "metadata": {},
   "outputs": [
    {
     "name": "stdout",
     "output_type": "stream",
     "text": [
      "[103, 52, 273, 32, 77] [77, 32, 273, 52, 103]\n"
     ]
    }
   ],
   "source": [
    "lar = list(reversed(la))\n",
    "print(la, lar)"
   ]
  },
  {
   "cell_type": "code",
   "execution_count": 8,
   "metadata": {},
   "outputs": [
    {
     "name": "stdout",
     "output_type": "stream",
     "text": [
      "0번째 요소는 ele1입니다.\n",
      "1번째 요소는 ele2입니다.\n",
      "2번째 요소는 ele3입니다.\n",
      "0번째 요소는 ele1입니다.\n",
      "1번째 요소는 ele2입니다.\n",
      "2번째 요소는 ele3입니다.\n",
      "k: 0, v: ele1\n",
      "k: 1, v: ele2\n",
      "k: 2, v: ele3\n"
     ]
    }
   ],
   "source": [
    "#enumless\n",
    "\n",
    "exm_l = [\"ele1\", \"ele2\", \"ele3\"]\n",
    "\n",
    "enc = 0\n",
    "for i in exm_l:\n",
    "    print(f\"{enc}번째 요소는 {i}입니다.\")\n",
    "    enc += 1\n",
    "\n",
    "for i in range(len(exm_l)):\n",
    "    print(f\"{i}번째 요소는 {exm_l[i]}입니다.\")\n",
    "\n",
    "\n",
    "#with enum\n",
    "for i, val in enumerate(exm_l):\n",
    "    print(f\"k: {i}, v: {val}\")"
   ]
  },
  {
   "cell_type": "code",
   "execution_count": 11,
   "metadata": {},
   "outputs": [
    {
     "name": "stdout",
     "output_type": "stream",
     "text": [
      "['ele1', 'ele2', 'ele3']\n",
      "k: 0, v: ele1\n",
      "k: 1, v: ele2\n",
      "k: 2, v: ele3\n",
      "[(0, 'ele1'), (1, 'ele2'), (2, 'ele3')]\n",
      "<enumerate object at 0xf7f7f0535c40>\n"
     ]
    }
   ],
   "source": [
    "print(exm_l)\n",
    "\n",
    "for i, val in enumerate(exm_l):\n",
    "    print(f\"k: {i}, v: {val}\")\n",
    "\n",
    "print(list(enumerate(exm_l)))\n",
    "\n",
    "print(enumerate(exm_l))"
   ]
  },
  {
   "cell_type": "code",
   "execution_count": 13,
   "metadata": {},
   "outputs": [
    {
     "name": "stdout",
     "output_type": "stream",
     "text": [
      "[0, 4, 16, 36, 64, 100, 144, 196, 256, 324]\n",
      "[0, 2, 4, 6, 8, 10, 12, 14, 16, 18]\n"
     ]
    }
   ],
   "source": [
    "av1 = []\n",
    "av2 = []\n",
    "\n",
    "for i in range(0, 20, 2):\n",
    "    av2.append(i)\n",
    "    av1.append(i * i)\n",
    "\n",
    "print(av1)\n",
    "print(av2)"
   ]
  },
  {
   "cell_type": "code",
   "execution_count": 15,
   "metadata": {},
   "outputs": [
    {
     "name": "stdout",
     "output_type": "stream",
     "text": [
      "[0, 4, 16, 36, 64, 100, 144, 196, 256, 324]\n"
     ]
    }
   ],
   "source": [
    "av3 = [i*i for i in range(0, 20, 2)]\n",
    "print(av3)"
   ]
  },
  {
   "cell_type": "code",
   "execution_count": 17,
   "metadata": {},
   "outputs": [
    {
     "name": "stdout",
     "output_type": "stream",
     "text": [
      "[0, 2, 4, 6, 8, 10, 12, 14, 16, 18]\n"
     ]
    }
   ],
   "source": [
    "enx = []\n",
    "\n",
    "for i in range(0, 20):\n",
    "    if i % 2 == 0:\n",
    "        enx.append(i)\n",
    "\n",
    "print(enx)"
   ]
  },
  {
   "cell_type": "code",
   "execution_count": 24,
   "metadata": {},
   "outputs": [
    {
     "name": "stdout",
     "output_type": "stream",
     "text": [
      "[2, 4, 6, 8, 10, 12, 14, 16, 18]\n"
     ]
    }
   ],
   "source": [
    "evenv = [i for i in range(0, 20) if i % 2 == 0 and i != 0]\n",
    "print(evenv)"
   ]
  },
  {
   "cell_type": "code",
   "execution_count": 25,
   "metadata": {},
   "outputs": [
    {
     "data": {
      "text/plain": [
       "'1:2:3:A:Q5:||'"
      ]
     },
     "execution_count": 25,
     "metadata": {},
     "output_type": "execute_result"
    }
   ],
   "source": [
    "\":\".join([\"1\", \"2\", \"3\", \"A\",\"Q5\", \"||\"])"
   ]
  },
  {
   "cell_type": "code",
   "execution_count": 28,
   "metadata": {},
   "outputs": [
    {
     "data": {
      "text/plain": [
       "'2 ❤ 4 ❤ 6 ❤ 8 ❤ 10 ❤ 12 ❤ 14 ❤ 16 ❤ 18'"
      ]
     },
     "execution_count": 28,
     "metadata": {},
     "output_type": "execute_result"
    }
   ],
   "source": [
    "\" ❤ \".join([str(x) for x in evenv])"
   ]
  },
  {
   "cell_type": "code",
   "execution_count": 32,
   "metadata": {},
   "outputs": [
    {
     "name": "stdout",
     "output_type": "stream",
     "text": [
      "input intger: 13\n",
      "    입력 문자열: 13,\n",
      "    13은 홀수이다.\n",
      "    \n"
     ]
    }
   ],
   "source": [
    "nx = int(input(\"input intger: \"))\n",
    "if nx % 2 == 0:\n",
    "    print(f\"\"\"\\\n",
    "input intger: {nx}\n",
    "    입력 문자열: {nx},\n",
    "    {nx}은 짝수이다.\n",
    "    \"\"\")\n",
    "else:\n",
    "    print(\"\"\"\\\n",
    "input intger: {}\n",
    "    입력 문자열: {},\n",
    "    {}은 홀수이다.\n",
    "    \"\"\".format(nx, nx, nx))"
   ]
  },
  {
   "cell_type": "code",
   "execution_count": 42,
   "metadata": {},
   "outputs": [
    {
     "name": "stdout",
     "output_type": "stream",
     "text": [
      "2: 10\n",
      "5: 101\n",
      "6: 110\n",
      "11: 1011\n",
      "13: 1101\n",
      "14: 1110\n",
      "23: 10111\n",
      "27: 11011\n",
      "29: 11101\n",
      "30: 11110\n",
      "47: 101111\n",
      "55: 110111\n",
      "59: 111011\n",
      "61: 111101\n",
      "62: 111110\n",
      "95: 1011111\n",
      "\n",
      "검사: [2, 5, 6, 11, 13, 14, 23, 27, 29, 30, 47, 55, 59, 61, 62, 95]\n",
      "합계: 539\n"
     ]
    }
   ],
   "source": [
    "output = [i for i in range(0, 101) if \"{:b}\".format(i).count(\"0\") == 1 and i != 0]\n",
    "outsum = sum(output)\n",
    "\n",
    "for i in output:\n",
    "    print(\"{}: {}\".format(i, \"{:b}\".format(i)))\n",
    "\n",
    "print()\n",
    "print(f\"검사: {output}\")\n",
    "print(f\"합계: {outsum}\")\n",
    "\n"
   ]
  },
  {
   "cell_type": "code",
   "execution_count": 1,
   "metadata": {},
   "outputs": [
    {
     "name": "stdout",
     "output_type": "stream",
     "text": [
      "['0', '1', '10', '11', '100', '101', '110', '111', '1000', '1001', '1010', '1011', '1100', '1101', '1110', '1111', '10000', '10001', '10010', '10011', '10100', '10101', '10110', '10111', '11000', '11001', '11010', '11011', '11100', '11101', '11110', '11111', '100000', '100001', '100010', '100011', '100100', '100101', '100110', '100111', '101000', '101001', '101010', '101011', '101100', '101101', '101110', '101111', '110000', '110001', '110010', '110011', '110100', '110101', '110110', '110111', '111000', '111001', '111010', '111011', '111100', '111101', '111110', '111111', '1000000', '1000001', '1000010', '1000011', '1000100', '1000101', '1000110', '1000111', '1001000', '1001001', '1001010', '1001011', '1001100', '1001101', '1001110', '1001111', '1010000', '1010001', '1010010', '1010011', '1010100', '1010101', '1010110', '1010111', '1011000', '1011001', '1011010', '1011011', '1011100', '1011101', '1011110', '1011111', '1100000', '1100001', '1100010', '1100011', '1100100']\n"
     ]
    }
   ],
   "source": [
    "list_a = []\n",
    "for i in range(0 ,101):\n",
    "    x = f\"{i:b}\"\n",
    "    list_a.append(x)\n",
    "\n",
    "print(list_a)"
   ]
  }
 ],
 "metadata": {
  "kernelspec": {
   "display_name": "Python 3",
   "language": "python",
   "name": "python3"
  },
  "language_info": {
   "codemirror_mode": {
    "name": "ipython",
    "version": 3
   },
   "file_extension": ".py",
   "mimetype": "text/x-python",
   "name": "python",
   "nbconvert_exporter": "python",
   "pygments_lexer": "ipython3",
   "version": "3.10.12"
  }
 },
 "nbformat": 4,
 "nbformat_minor": 2
}
