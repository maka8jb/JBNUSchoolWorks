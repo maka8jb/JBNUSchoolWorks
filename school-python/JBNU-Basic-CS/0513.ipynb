{
 "cells": [
  {
   "cell_type": "markdown",
   "metadata": {},
   "source": [
    "# 2024-05-13"
   ]
  },
  {
   "cell_type": "code",
   "execution_count": 13,
   "metadata": {},
   "outputs": [
    {
     "name": "stdout",
     "output_type": "stream",
     "text": [
      "i=14, sum=1015\n"
     ]
    }
   ],
   "source": [
    "#1번\n",
    "\n",
    "i = 0\n",
    "maxi = 0\n",
    "for q in range(1, 101):\n",
    "    i += (q ** 2)\n",
    "    if i > 1000:\n",
    "        maxi = q\n",
    "        break\n",
    "\n",
    "print(f\"i={maxi}, sum={i}\")"
   ]
  },
  {
   "cell_type": "code",
   "execution_count": 15,
   "metadata": {},
   "outputs": [
    {
     "name": "stdout",
     "output_type": "stream",
     "text": [
      "처음으로 1000을 넘을 때 항 번호: 60 \n",
      "처음으로 1000을 넘을 때 항 값: 1006\n"
     ]
    }
   ],
   "source": [
    "#2번\n",
    "\n",
    "inval = 3\n",
    "plusd = 17\n",
    "step = 1\n",
    "rlt = inval\n",
    "\n",
    "while not (rlt > 1000):\n",
    "    step += 1\n",
    "    rlt += plusd\n",
    "\n",
    "print(f\"처음으로 1000을 넘을 때 항 번호: {step} \\n처음으로 1000을 넘을 때 항 값: {rlt}\")"
   ]
  },
  {
   "cell_type": "code",
   "execution_count": 4,
   "metadata": {},
   "outputs": [
    {
     "name": "stdout",
     "output_type": "stream",
     "text": [
      "[1~100 사이의 7의 배수]\n",
      "7    14   21   28   35   42   49   56   63   70   \n",
      "\n",
      "77   84   91   98   1~100 사이의 7의 배수 갯수 : 14\n"
     ]
    }
   ],
   "source": [
    "#3번\n",
    "\n",
    "lists = []\n",
    "\n",
    "for i in range(1, 101):\n",
    "    if i % 7 == 0:\n",
    "        lists.append(i)\n",
    "\n",
    "print(\"[1~100 사이의 7의 배수]\")\n",
    "\n",
    "lint = 0\n",
    "for x in lists:\n",
    "    if lint % 10 == 0 and lint != 0:\n",
    "        print(\"\\n\")\n",
    "    print(\"{:<5d}\".format(x), end=\"\")\n",
    "    lint += 1\n",
    "print(\"{} : {}\".format(\"1~100 사이의 7의 배수 갯수\", len(lists)))"
   ]
  },
  {
   "cell_type": "code",
   "execution_count": 6,
   "metadata": {},
   "outputs": [
    {
     "name": "stdout",
     "output_type": "stream",
     "text": [
      "[1~100 사이의 모든 소수들]\n",
      "    2    3    5    7   11   13   17   19   23   29\n",
      "\n",
      "   31   37   41   43   47   53   59   61   67   71\n",
      "\n",
      "   73   79   83   89   97   1~100 사이의 모든 소수 갯수 : 25\n"
     ]
    }
   ],
   "source": [
    "#4번\n",
    "\n",
    "listk = []\n",
    "\n",
    "def is_p(x):\n",
    "    if x < 2:\n",
    "        return False\n",
    "\n",
    "    for t in range(2, x):\n",
    "        if x % t == 0:\n",
    "            return False\n",
    "    return True\n",
    "\n",
    "for i in range(1, 101):\n",
    "    if is_p(i):\n",
    "        listk.append(i)\n",
    "\n",
    "print(\"[1~100 사이의 모든 소수들]\")\n",
    "\n",
    "linv = 0\n",
    "for x in listk:\n",
    "    if linv % 10 == 0 and linv != 0:\n",
    "        print(\"\\n\")\n",
    "    print(\"{:5d}\".format(x), end=\"\")\n",
    "    linv += 1\n",
    "print(\"   {} : {}\".format(\"1~100 사이의 모든 소수 갯수\", len(listk)))"
   ]
  }
 ],
 "metadata": {
  "kernelspec": {
   "display_name": "Python 3",
   "language": "python",
   "name": "python3"
  },
  "language_info": {
   "codemirror_mode": {
    "name": "ipython",
    "version": 3
   },
   "file_extension": ".py",
   "mimetype": "text/x-python",
   "name": "python",
   "nbconvert_exporter": "python",
   "pygments_lexer": "ipython3",
   "version": "3.10.12"
  }
 },
 "nbformat": 4,
 "nbformat_minor": 2
}
