{
 "cells": [
  {
   "cell_type": "markdown",
   "metadata": {},
   "source": [
    "# 2024-04-08"
   ]
  },
  {
   "cell_type": "markdown",
   "metadata": {},
   "source": [
    "과제"
   ]
  },
  {
   "cell_type": "code",
   "execution_count": 2,
   "metadata": {},
   "outputs": [
    {
     "name": "stdout",
     "output_type": "stream",
     "text": [
      "273은 홀수이고 3자릿수 입니다.\n",
      "103은 홀수이고 3자릿수 입니다.\n",
      "5은 홀수이고 1자릿수 입니다.\n",
      "32은 짝수이고 2자릿수 입니다.\n",
      "65은 홀수이고 2자릿수 입니다.\n",
      "9은 홀수이고 1자릿수 입니다.\n",
      "72은 짝수이고 2자릿수 입니다.\n",
      "800은 짝수이고 3자릿수 입니다.\n",
      "99은 홀수이고 2자릿수 입니다.\n"
     ]
    }
   ],
   "source": [
    "list_a=[273, 103, 5, 32, 65, 9, 72, 800, 99]\n",
    "\n",
    "for x in list_a:\n",
    "    if x % 2 == 0:\n",
    "        print(\"{}은 짝수이고 {}자릿수 입니다.\".format(x, len(str(x))))\n",
    "    else:\n",
    "        print(\"{}은 홀수이고 {}자릿수 입니다.\".format(x, len(str(x))))\n"
   ]
  },
  {
   "cell_type": "code",
   "execution_count": 12,
   "metadata": {},
   "outputs": [
    {
     "name": "stdout",
     "output_type": "stream",
     "text": [
      "['망고', '설탕', '메타중아황산나트륨', '치자황색소']\n",
      "메타중아황산나트륨\n",
      "망고\n",
      "설탕\n",
      "메타중아황산나트륨\n",
      "치자황색소\n",
      "5000\n",
      "8D 건조 망고\n",
      "망고\n",
      "설탕\n",
      "메타중아황산나트륨\n",
      "치자황색소\n",
      "수상한 가루\n"
     ]
    },
    {
     "ename": "ValueError",
     "evalue": "too many values to unpack (expected 2)",
     "output_type": "error",
     "traceback": [
      "\u001b[0;31m---------------------------------------------------------------------------\u001b[0m",
      "\u001b[0;31mValueError\u001b[0m                                Traceback (most recent call last)",
      "Cell \u001b[0;32mIn[12], line 27\u001b[0m\n\u001b[1;32m     24\u001b[0m \u001b[38;5;28;01mfor\u001b[39;00m t \u001b[38;5;129;01min\u001b[39;00m dictn[\u001b[38;5;124m\"\u001b[39m\u001b[38;5;124mingredient\u001b[39m\u001b[38;5;124m\"\u001b[39m]:\n\u001b[1;32m     25\u001b[0m     \u001b[38;5;28mprint\u001b[39m(t)\n\u001b[0;32m---> 27\u001b[0m \u001b[38;5;28;01mfor\u001b[39;00m q, v \u001b[38;5;129;01min\u001b[39;00m dictn:\n\u001b[1;32m     28\u001b[0m     \u001b[38;5;28mprint\u001b[39m(\u001b[38;5;124m\"\u001b[39m\u001b[38;5;132;01m{}\u001b[39;00m\u001b[38;5;124m: \u001b[39m\u001b[38;5;132;01m{}\u001b[39;00m\u001b[38;5;124m\"\u001b[39m\u001b[38;5;241m.\u001b[39mformat(q, v))\n",
      "\u001b[0;31mValueError\u001b[0m: too many values to unpack (expected 2)"
     ]
    }
   ],
   "source": [
    "dictn = {\n",
    "    \"name\": \"7D 건조 망고\",\n",
    "    \"type\": \"당절임\",\n",
    "    \"ingredient\": [\"망고\", \"설탕\", \"메타중아황산나트륨\", \"치자황색소\"],\n",
    "    \"origin\": \"필리핀\",\n",
    "}\n",
    "\n",
    "print(dictn[\"ingredient\"])\n",
    "print(dictn[\"ingredient\"][2])\n",
    "\n",
    "for t in dictn[\"ingredient\"]:\n",
    "    print(t)\n",
    "\n",
    "dictn[\"price\"] = 5000\n",
    "print(dictn[\"price\"])\n",
    "\n",
    "dictn[\"name\"] = \"8D 건조 망고\"\n",
    "print(dictn[\"name\"])\n",
    "\n",
    "del dictn[\"price\"]\n",
    "\n",
    "\n",
    "dictn[\"ingredient\"].append(\"수상한 가루\")\n",
    "for t in dictn[\"ingredient\"]:\n",
    "    print(t)\n"
   ]
  },
  {
   "cell_type": "code",
   "execution_count": 16,
   "metadata": {},
   "outputs": [
    {
     "name": "stdout",
     "output_type": "stream",
     "text": [
      "False\n",
      "name: 8D 건조 망고\n",
      "type: 당절임\n",
      "ingredient: ['망고', '설탕', '메타중아황산나트륨', '치자황색소', '수상한 가루']\n",
      "origin: 필리핀\n",
      "name\n",
      "type\n",
      "ingredient\n",
      "origin\n"
     ]
    }
   ],
   "source": [
    "print(\"price\" in dictn)\n",
    "\n",
    "for q in dictn:\n",
    "    print(\"{}: {}\".format(q, dictn[q]))\n",
    "\n",
    "for q in dictn:\n",
    "    print(f\"{q}\")"
   ]
  },
  {
   "cell_type": "code",
   "execution_count": 18,
   "metadata": {},
   "outputs": [
    {
     "name": "stdout",
     "output_type": "stream",
     "text": [
      "[{'name': '윤성로', 'address': '서울', 'contact': '000'}, {'name': '박성욱', 'address': '서울', 'contact': '000'}, {'name': '박성진', 'address': '인천', 'contact': '222'}]\n",
      "=========================\n",
      "name: 윤성로\n",
      "address: 서울\n",
      "contact: 000\n",
      "=========================\n",
      "=========================\n",
      "name: 박성욱\n",
      "address: 서울\n",
      "contact: 000\n",
      "=========================\n",
      "=========================\n",
      "name: 박성진\n",
      "address: 인천\n",
      "contact: 222\n",
      "=========================\n"
     ]
    }
   ],
   "source": [
    "studentx = list()\n",
    "\n",
    "for _ in range(3):\n",
    "    entry = dict()\n",
    "\n",
    "    entry[\"stnum\"] = input(\"학번: \")\n",
    "    entry[\"name\"] = input(\"이름: \")\n",
    "    entry[\"address\"] = input(\"주소: \")\n",
    "    entry[\"contact\"] = input(\"연락처: \")\n",
    "\n",
    "    studentx.append(entry)\n",
    "\n",
    "print(studentx)\n",
    "for st in studentx:\n",
    "    print(\"=========================\")\n",
    "    for b in st:\n",
    "        print(\"{}: {}\".format(b, st[b]))\n",
    "    print(\"=========================\")"
   ]
  },
  {
   "cell_type": "code",
   "execution_count": 21,
   "metadata": {},
   "outputs": [
    {
     "name": "stdout",
     "output_type": "stream",
     "text": [
      "1번째 학생 데이터를 입력해주세요.\n",
      "2번째 학생 데이터를 입력해주세요.\n",
      "3번째 학생 데이터를 입력해주세요.\n",
      "[{'학번': '202412999', '이름': '양현성', '주소': '제주', '연락처': '010-3517-9522'}, {'학번': '2024000000', '이름': '김아무개', '주소': '군산', '연락처': '000-0000-0000'}, {'학번': '20241111111', '이름': '박아무개', '주소': '전주', '연락처': '111-1111-1111'}]\n"
     ]
    }
   ],
   "source": [
    "student = list()\n",
    "\n",
    "for k in range(3):\n",
    "    print(f\"{k + 1}번째 학생 데이터를 입력해주세요.\")\n",
    "    entry = dict()\n",
    "\n",
    "    entry[\"학번\"] = input(\"학번: \")\n",
    "    entry[\"이름\"] = input(\"이름: \")\n",
    "    entry[\"주소\"] = input(\"주소: \")\n",
    "    entry[\"연락처\"] = input(\"연락처: \")\n",
    "\n",
    "    student.append(entry)\n",
    "\n",
    "print(student)"
   ]
  },
  {
   "cell_type": "code",
   "execution_count": 27,
   "metadata": {},
   "outputs": [
    {
     "name": "stdout",
     "output_type": "stream",
     "text": [
      "1번째 학생\n",
      "학번: 202412999 이름: 양현성 주소: 제주 연락처: 010-3517-9522 \n",
      "\n",
      "2번째 학생\n",
      "학번: 202400000 이름: 김아무개 주소: 군산 연락처: 000-0000-0000 \n",
      "\n",
      "3번째 학생\n",
      "학번: 202411111 이름: 박아무개 주소: 전주 연락처: 111-1111-1111 \n",
      "\n"
     ]
    }
   ],
   "source": [
    "stdn = [ \n",
    "    {'학번': '202412999', '이름': '양현성', '주소': '제주', '연락처': '010-3517-9522'}, \n",
    "    {'학번': '202400000', '이름': '김아무개', '주소': '군산', '연락처': '000-0000-0000'}, \n",
    "    {'학번': '202411111', '이름': '박아무개', '주소': '전주', '연락처': '111-1111-1111'}\n",
    "]\n",
    "\n",
    "n = 0\n",
    "for m in stdn:\n",
    "    n += 1\n",
    "    print(f\"{n}번째 학생\")\n",
    "    for key in m:\n",
    "        print(\"{}: {} \".format(key, m[key]), end = '')\n",
    "    print(\"\\n\")\n"
   ]
  },
  {
   "cell_type": "code",
   "execution_count": 34,
   "metadata": {},
   "outputs": [
    {
     "name": "stdout",
     "output_type": "stream",
     "text": [
      "{1: 2, 2: 3, 6: 1, 5: 2, 7: 2, 3: 2, 8: 1, 4: 1, 9: 1}\n"
     ]
    }
   ],
   "source": [
    "numbers = [1, 2, 6, 5, 7, 3, 3, 8, 1, 4, 2, 7, 9, 5, 2]\n",
    "counter = {}\n",
    "\n",
    "for nu in numbers:\n",
    "    if not nu in counter:\n",
    "        counter[nu] = 1\n",
    "    else:\n",
    "        counter[nu] += 1\n",
    "\n",
    "print(counter)"
   ]
  },
  {
   "cell_type": "code",
   "execution_count": 33,
   "metadata": {},
   "outputs": [
    {
     "name": "stdout",
     "output_type": "stream",
     "text": [
      "{1: 2, 2: 3, 6: 1, 5: 2, 7: 2, 3: 2, 8: 1, 4: 1, 9: 1}\n"
     ]
    }
   ],
   "source": [
    "numbers2 = [1, 2, 6, 5, 7, 3, 3, 8, 1, 4, 2, 7, 9, 5, 2]\n",
    "counter2 = {}\n",
    "\n",
    "counter2 = dict.fromkeys(numbers2, 0)\n",
    "\n",
    "for nu in numbers2:\n",
    "    counter2[nu] += 1\n",
    "\n",
    "print(counter2)"
   ]
  }
 ],
 "metadata": {
  "kernelspec": {
   "display_name": "Python 3",
   "language": "python",
   "name": "python3"
  },
  "language_info": {
   "codemirror_mode": {
    "name": "ipython",
    "version": 3
   },
   "file_extension": ".py",
   "mimetype": "text/x-python",
   "name": "python",
   "nbconvert_exporter": "python",
   "pygments_lexer": "ipython3",
   "version": "3.10.12"
  }
 },
 "nbformat": 4,
 "nbformat_minor": 2
}
