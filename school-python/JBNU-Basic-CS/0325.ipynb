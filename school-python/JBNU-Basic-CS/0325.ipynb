{
 "cells": [
  {
   "cell_type": "markdown",
   "metadata": {},
   "source": [
    "# 2024-03-25"
   ]
  },
  {
   "cell_type": "markdown",
   "metadata": {},
   "source": []
  },
  {
   "cell_type": "code",
   "execution_count": 4,
   "metadata": {},
   "outputs": [
    {
     "name": "stdout",
     "output_type": "stream",
     "text": [
      "2024 년\n",
      "3 월\n",
      "25 일\n",
      "2 시\n",
      "21 분\n",
      "2024년 3월 25일 2시 21분 47초 633282\n",
      "2024-03-25 02:21:47.633282\n"
     ]
    }
   ],
   "source": [
    "import datetime as dat\n",
    "\n",
    "now = dat.datetime.now()\n",
    "\n",
    "print(now.year, \"년\")\n",
    "print(now.month, \"월\")\n",
    "print(now.day, \"일\")\n",
    "print(now.hour, \"시\")\n",
    "print(now.minute, \"분\")\n",
    "\n",
    "print(\"{0}년 {1}월 {2}일 {3}시 {4}분 {5}초 {6}\".format(\n",
    "    now.year, now.month, now.day,\n",
    "    now.hour, now.minute, now.second,\n",
    "    now.microsecond\n",
    "))\n",
    "\n",
    "print(now)"
   ]
  },
  {
   "cell_type": "code",
   "execution_count": 5,
   "metadata": {},
   "outputs": [
    {
     "name": "stdout",
     "output_type": "stream",
     "text": [
      "2024-03-25 02:24:06.307641\n"
     ]
    }
   ],
   "source": [
    "import datetime as d\n",
    "print(d.datetime.now())"
   ]
  },
  {
   "cell_type": "code",
   "execution_count": 6,
   "metadata": {},
   "outputs": [
    {
     "name": "stdout",
     "output_type": "stream",
     "text": [
      "지금은 2 AM입니다.\n"
     ]
    }
   ],
   "source": [
    "import datetime as d\n",
    "now = d.datetime.now()\n",
    "\n",
    "if now.hour < 12:\n",
    "    print(\"지금은 {} AM입니다.\".format(now.hour))\n",
    "else:\n",
    "    print(\"지금은 {} PM입니다.\".format(now.hour - 12))\n"
   ]
  },
  {
   "cell_type": "code",
   "execution_count": 19,
   "metadata": {},
   "outputs": [
    {
     "name": "stdout",
     "output_type": "stream",
     "text": [
      "봄\n"
     ]
    }
   ],
   "source": [
    "# 3-5 봄\n",
    "# 6-8 여름\n",
    "# 9-11 가을\n",
    "# 12-2 겨울\n",
    "\n",
    "#import datetime as d\n",
    "#now = d.datetime.now()\n",
    "\n",
    "x  = int(input())\n",
    "\n",
    "if x > 2 and x < 6:\n",
    "    print(\"봄\")\n",
    "elif x > 5 and x < 9:\n",
    "    print(\"여름\")\n",
    "elif x > 8 and x < 12:\n",
    "    print(\"가을\") \n",
    "elif x > 11 or (x > 0 and x < 3):\n",
    "    print(\"겨울\") "
   ]
  },
  {
   "cell_type": "code",
   "execution_count": 21,
   "metadata": {},
   "outputs": [
    {
     "name": "stdout",
     "output_type": "stream",
     "text": [
      "짝수\n"
     ]
    }
   ],
   "source": [
    "ad = int(input(\">\"))\n",
    "\n",
    "if ad % 2 > 0:\n",
    "    print(\"홀수\")\n",
    "else:\n",
    "    print(\"짝수\")"
   ]
  },
  {
   "cell_type": "code",
   "execution_count": 30,
   "metadata": {},
   "outputs": [
    {
     "name": "stdout",
     "output_type": "stream",
     "text": [
      "3의 배수\n"
     ]
    }
   ],
   "source": [
    "#3의 배수\n",
    "\n",
    "add = int(input(\">\"))\n",
    "\n",
    "if add % 3 > 0:\n",
    "    print(\"3의 배수 아님\")\n",
    "else:\n",
    "    print(\"3의 배수\")"
   ]
  },
  {
   "cell_type": "markdown",
   "metadata": {},
   "source": [
    "##### 1의 보수\n",
    "invert bits\n",
    "\n",
    "0 0 1 -> 1 0 0 <br />\n",
    "1 0 1 -> 0 1 0"
   ]
  },
  {
   "cell_type": "markdown",
   "metadata": {},
   "source": [
    "#### 2의 보수\n",
    "\n",
    "1의 보수  + 1\n",
    "\n",
    "1 0 1의 2의 보수 <br />\n",
    "1 0 1 -> 0 1 0 -> 0 1 1"
   ]
  },
  {
   "cell_type": "markdown",
   "metadata": {},
   "source": [
    "#### intger 표기\n",
    "\n",
    "부호 / 2^3 / 2^2 / 2^1 <br />\n",
    "0   / 0   / 0   / 0\n",
    "\n",
    "minus + plus\n",
    "2의 보수의 합. (minus는 보수로 표기함.)"
   ]
  },
  {
   "cell_type": "markdown",
   "metadata": {},
   "source": [
    "### 과제\n",
    "3의 배수 프로그램 작성."
   ]
  }
 ],
 "metadata": {
  "kernelspec": {
   "display_name": "Python 3",
   "language": "python",
   "name": "python3"
  },
  "language_info": {
   "codemirror_mode": {
    "name": "ipython",
    "version": 3
   },
   "file_extension": ".py",
   "mimetype": "text/x-python",
   "name": "python",
   "nbconvert_exporter": "python",
   "pygments_lexer": "ipython3",
   "version": "3.10.12"
  }
 },
 "nbformat": 4,
 "nbformat_minor": 2
}
