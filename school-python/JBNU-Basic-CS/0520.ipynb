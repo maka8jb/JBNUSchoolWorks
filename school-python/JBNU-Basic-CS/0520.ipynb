{
 "cells": [
  {
   "cell_type": "markdown",
   "metadata": {},
   "source": [
    "# 2024-05-20"
   ]
  },
  {
   "cell_type": "code",
   "execution_count": 5,
   "metadata": {},
   "outputs": [
    {
     "name": "stdout",
     "output_type": "stream",
     "text": [
      "학생정보 입력을 종료합니다.\n",
      "[현재 입력된 학생 정보]\n",
      "1번 학생: {'학번': 20140001, '이름': '홍길동', '생년월일': '20200102', '전화번호': '01011112222'}\n",
      "2번 학생: {'학번': 20240002, '이름': '이순신', '생년월일': '20200112', '전화번호': '01033335555'}\n"
     ]
    }
   ],
   "source": [
    "studendict = list()\n",
    "\n",
    "while True:\n",
    "    pii = input(\"학생정보를 입력하시겠습니까? (Y/N): \").lower()\n",
    "    if pii == \"n\":\n",
    "        print(\"학생정보 입력을 종료합니다.\")\n",
    "        print(\"[현재 입력된 학생 정보]\")\n",
    "\n",
    "        for i in range(len(studendict)):\n",
    "            print(f\"{i +1}번 학생: {studendict[i]}\")\n",
    "        break\n",
    "    elif pii == \"y\":\n",
    "        studentnumber = int(input(\"학번: \"))\n",
    "        studentname = input(\"이름: \")\n",
    "        studentbirth = input(\"생년월일: \")\n",
    "        studentphone = input(\"전화번호: \")\n",
    "\n",
    "        student = {\n",
    "            \"학번\": studentnumber,\n",
    "            \"이름\": studentname,\n",
    "            \"생년월일\": studentbirth,\n",
    "            \"전화번호\": studentphone\n",
    "        }\n",
    "\n",
    "        studendict.append(student)"
   ]
  },
  {
   "cell_type": "code",
   "execution_count": 6,
   "metadata": {},
   "outputs": [
    {
     "name": "stdout",
     "output_type": "stream",
     "text": [
      "HELLORLD!\n",
      "HELLORLD!\n",
      "HELLORLD!\n"
     ]
    }
   ],
   "source": [
    "def pg3t():\n",
    "    print(\"HELLORLD!\")\n",
    "    print(\"HELLORLD!\")\n",
    "    print(\"HELLORLD!\")\n",
    "\n",
    "pg3t()"
   ]
  },
  {
   "cell_type": "code",
   "execution_count": 7,
   "metadata": {},
   "outputs": [
    {
     "name": "stdout",
     "output_type": "stream",
     "text": [
      "HELLORLD!\n",
      "HELLORLD!\n",
      "HELLORLD!\n",
      "HELLORLD!\n",
      "HELLORLD!\n"
     ]
    }
   ],
   "source": [
    "def pvnt(val, n):\n",
    "    for _ in range(n):\n",
    "        print(val)\n",
    "\n",
    "pvnt(\"HELLORLD!\", 5)"
   ]
  },
  {
   "cell_type": "code",
   "execution_count": 8,
   "metadata": {},
   "outputs": [
    {
     "name": "stdout",
     "output_type": "stream",
     "text": [
      "HELLORLD!\n",
      "Not a Centurion!\n",
      "Just Morden Computing!\n",
      "\n",
      "HELLORLD!\n",
      "Not a Centurion!\n",
      "Just Morden Computing!\n",
      "\n",
      "HELLORLD!\n",
      "Not a Centurion!\n",
      "Just Morden Computing!\n",
      "\n",
      "HELLORLD!\n",
      "Not a Centurion!\n",
      "Just Morden Computing!\n",
      "\n",
      "HELLORLD!\n",
      "Not a Centurion!\n",
      "Just Morden Computing!\n",
      "\n"
     ]
    }
   ],
   "source": [
    "def pvntva(n, *vals):\n",
    "    for _ in range(n):\n",
    "        for x in vals:\n",
    "            print(x)\n",
    "        print()\n",
    "\n",
    "pvntva(5, \"HELLORLD!\", \"Not a Centurion!\", \"Just Morden Computing!\")"
   ]
  },
  {
   "cell_type": "code",
   "execution_count": 9,
   "metadata": {},
   "outputs": [
    {
     "name": "stdout",
     "output_type": "stream",
     "text": [
      "Two\n",
      "Three\n",
      "\n",
      "Two\n",
      "Three\n",
      "\n",
      "Two\n",
      "Three\n",
      "\n",
      "Queue\n",
      "Stack\n",
      "\n",
      "Queue\n",
      "Stack\n",
      "\n"
     ]
    }
   ],
   "source": [
    "def pvntdf2(*vals, n = 2):\n",
    "    for _ in range(n):\n",
    "        for x in vals:\n",
    "            print(x)\n",
    "        print()\n",
    "\n",
    "pvntdf2(\"Two\", \"Three\", n = 3)\n",
    "pvntdf2(\"Queue\", \"Stack\")"
   ]
  },
  {
   "cell_type": "code",
   "execution_count": 16,
   "metadata": {},
   "outputs": [
    {
     "name": "stdout",
     "output_type": "stream",
     "text": [
      "10\n"
     ]
    }
   ],
   "source": [
    "def sums(calcop, *vals):\n",
    "    x = vals[0]\n",
    "    for q in vals[1:]:\n",
    "        if calcop == \"+\":\n",
    "            x += q\n",
    "        elif calcop == \"-\":\n",
    "            x -= q\n",
    "        elif calcop == \"*\":\n",
    "            x *= q\n",
    "        elif calcop == \"/\":\n",
    "            x /= q\n",
    "        elif calcop == \"%\":\n",
    "            x %= q\n",
    "        else:\n",
    "            print(\"invalid op.\")\n",
    "    return x\n",
    "\n",
    "print(sums(input(\"op> \"), int(input(\"> \")), int(input(\"> \"))))"
   ]
  },
  {
   "cell_type": "code",
   "execution_count": 18,
   "metadata": {},
   "outputs": [
    {
     "name": "stdout",
     "output_type": "stream",
     "text": [
      "50\n"
     ]
    }
   ],
   "source": [
    "def splitsums(inp):\n",
    "    qp = 0\n",
    "    ix = str(inp).split(\" \")\n",
    "    for x in ix:\n",
    "        qp += int(x)\n",
    "    return qp\n",
    "\n",
    "print(splitsums(input(\"> \")))"
   ]
  }
 ],
 "metadata": {
  "kernelspec": {
   "display_name": "Python 3",
   "language": "python",
   "name": "python3"
  },
  "language_info": {
   "codemirror_mode": {
    "name": "ipython",
    "version": 3
   },
   "file_extension": ".py",
   "mimetype": "text/x-python",
   "name": "python",
   "nbconvert_exporter": "python",
   "pygments_lexer": "ipython3",
   "version": "3.10.12"
  }
 },
 "nbformat": 4,
 "nbformat_minor": 2
}
