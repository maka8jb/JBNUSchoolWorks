{
 "cells": [
  {
   "cell_type": "markdown",
   "metadata": {},
   "source": [
    "# 2024-05-20"
   ]
  },
  {
   "cell_type": "code",
   "execution_count": 2,
   "metadata": {},
   "outputs": [
    {
     "name": "stdout",
     "output_type": "stream",
     "text": [
      "학생정보 입력을 종료합니다.\n",
      "[현재 입력된 학생 정보]\n",
      "1번학생: {'학번': 20140001, '이름': '홍길동', '생년월일': '20200102', '전화번호': '01011112222'}\n",
      "2번학생: {'학번': 20240002, '이름': '이순신', '생년월일': '20200212', '전화번호': '010333335555'}\n"
     ]
    }
   ],
   "source": [
    "studendict = dict()\n",
    "\n",
    "while True:\n",
    "    pii = input(\"학생정보를 입력하시겠습니까? (Y/N): \").lower()\n",
    "    if pii == \"n\":\n",
    "        print(\"학생정보 입력을 종료합니다.\")\n",
    "        print(\"[현재 입력된 학생 정보]\")\n",
    "\n",
    "        for k in studendict:\n",
    "            print(f\"{k}: {studendict[k]}\")\n",
    "        break\n",
    "    elif pii == \"y\":\n",
    "        studentnumber = int(input(\"학번: \"))\n",
    "        studentname = input(\"이름: \")\n",
    "        studentbirth = input(\"생년월일: \")\n",
    "        studentphone = input(\"전화번호: \")\n",
    "\n",
    "        student = {\n",
    "            \"학번\": studentnumber,\n",
    "            \"이름\": studentname,\n",
    "            \"생년월일\": studentbirth,\n",
    "            \"전화번호\": studentphone\n",
    "        }\n",
    "\n",
    "        studendict[f\"{len(studendict) + 1}번학생\"] = student"
   ]
  }
 ],
 "metadata": {
  "kernelspec": {
   "display_name": "Python 3",
   "language": "python",
   "name": "python3"
  },
  "language_info": {
   "codemirror_mode": {
    "name": "ipython",
    "version": 3
   },
   "file_extension": ".py",
   "mimetype": "text/x-python",
   "name": "python",
   "nbconvert_exporter": "python",
   "pygments_lexer": "ipython3",
   "version": "3.10.12"
  }
 },
 "nbformat": 4,
 "nbformat_minor": 2
}
