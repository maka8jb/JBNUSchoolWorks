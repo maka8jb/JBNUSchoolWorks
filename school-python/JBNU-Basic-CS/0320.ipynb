{
 "cells": [
  {
   "cell_type": "markdown",
   "metadata": {},
   "source": [
    "# 2024-03-20"
   ]
  },
  {
   "cell_type": "markdown",
   "metadata": {},
   "source": [
    "슈퍼 트위치 깍두기 메이커"
   ]
  },
  {
   "cell_type": "code",
   "execution_count": 3,
   "metadata": {},
   "outputs": [
    {
     "name": "stdout",
     "output_type": "stream",
     "text": [
      "10은 20보다 작습니다.\n",
      "내일 수업 안함\n",
      "out of scope.\n"
     ]
    }
   ],
   "source": [
    "if 10 < 20:\n",
    "    print(\"10은 20보다 작습니다.\")\n",
    "    print(\"내일 수업 안함\")\n",
    "else:\n",
    "    print(\"어떻게 들어왔습니까?\")\n",
    "\n",
    "print(\"out of scope.\")"
   ]
  },
  {
   "cell_type": "code",
   "execution_count": 4,
   "metadata": {},
   "outputs": [
    {
     "name": "stdout",
     "output_type": "stream",
     "text": [
      "짝수데스네\n"
     ]
    }
   ],
   "source": [
    "num = int(input(\"> \"))\n",
    "\n",
    "if num % 2 == 0:\n",
    "    print(\"짝수데스네\")\n",
    "else:\n",
    "    print(\"짝수가아니에요........\")"
   ]
  },
  {
   "cell_type": "code",
   "execution_count": 10,
   "metadata": {},
   "outputs": [
    {
     "name": "stdout",
     "output_type": "stream",
     "text": [
      "odd\n"
     ]
    }
   ],
   "source": [
    "num_r = input(\"> \")\n",
    "lc = num_r[-1]\n",
    "\n",
    "if lc in \"0248\":\n",
    "    print(\"even\")\n",
    "\n",
    "if lc in \"13579\":\n",
    "    print(\"odd\")"
   ]
  },
  {
   "cell_type": "code",
   "execution_count": null,
   "metadata": {},
   "outputs": [],
   "source": [
    "num_c = input(\"> \")\n",
    "\n",
    "if num_c[-1] in \"0248\":\n",
    "    print(\"짝수\")\n",
    "else:\n",
    "    print(\"짝수가아님\")"
   ]
  },
  {
   "cell_type": "code",
   "execution_count": 9,
   "metadata": {},
   "outputs": [
    {
     "name": "stdout",
     "output_type": "stream",
     "text": [
      "짝수\n"
     ]
    }
   ],
   "source": [
    "print(\"짝수\" if int(input(\">\")) % 2 == 0 else \"짝수가아니네요.......\")"
   ]
  }
 ],
 "metadata": {
  "kernelspec": {
   "display_name": "Python 3",
   "language": "python",
   "name": "python3"
  },
  "language_info": {
   "codemirror_mode": {
    "name": "ipython",
    "version": 3
   },
   "file_extension": ".py",
   "mimetype": "text/x-python",
   "name": "python",
   "nbconvert_exporter": "python",
   "pygments_lexer": "ipython3",
   "version": "3.10.12"
  }
 },
 "nbformat": 4,
 "nbformat_minor": 2
}
