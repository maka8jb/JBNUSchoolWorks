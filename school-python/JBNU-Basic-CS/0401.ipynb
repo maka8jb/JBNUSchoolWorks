{
 "cells": [
  {
   "cell_type": "markdown",
   "metadata": {},
   "source": [
    "# 2024-04-01"
   ]
  },
  {
   "cell_type": "code",
   "execution_count": 4,
   "metadata": {},
   "outputs": [
    {
     "name": "stdout",
     "output_type": "stream",
     "text": [
      "BMI: 31.91930798940279\n",
      "2단계 비만\n"
     ]
    }
   ],
   "source": [
    "mass = int(input(\"?kg: \"))\n",
    "height = (int(input(\"?height(cm): \"))) / 100\n",
    "\n",
    "bmi = (mass / (height ** 2))\n",
    "\n",
    "print(\"BMI:\", bmi)\n",
    "\n",
    "if bmi < 18.5:\n",
    "    print(\"저체중\")\n",
    "elif bmi < 22.9:\n",
    "    print(\"정상\")\n",
    "elif bmi < 24.9:\n",
    "    print(\"비만전단계\")\n",
    "elif bmi < 29.9:\n",
    "    print(\"1단계 비만\")\n",
    "elif bmi < 34.9:\n",
    "    print(\"2단계 비만\")\n",
    "else:\n",
    "    print(\"3단계 비만\")"
   ]
  },
  {
   "cell_type": "markdown",
   "metadata": {},
   "source": [
    "~~**나는 2단계 비만이다!!!!!!!!!!!!!!!!!!!!**~~ <br />\n",
    "<small>댇지; 그만먹어;</small>"
   ]
  },
  {
   "cell_type": "code",
   "execution_count": 8,
   "metadata": {},
   "outputs": [
    {
     "ename": "IndentationError",
     "evalue": "사실 틀린건 없?어요 ㅋㅋㅋㅋㅋㅋ (<string>)",
     "output_type": "error",
     "traceback": [
      "Traceback \u001b[0;36m(most recent call last)\u001b[0m:\n",
      "\u001b[0m  File \u001b[1;32m~/.local/lib/python3.10/site-packages/IPython/core/interactiveshell.py:3577\u001b[0m in \u001b[1;35mrun_code\u001b[0m\n    exec(code_obj, self.user_global_ns, self.user_ns)\u001b[0m\n",
      "\u001b[0;36m  Cell \u001b[0;32mIn[8], line 6\u001b[0;36m\n\u001b[0;31m    raise IndentationError(\"사실 틀린건 없?어요 ㅋㅋㅋㅋㅋㅋ\")\u001b[0;36m\n",
      "\u001b[0;36m  File \u001b[0;32m<string>\u001b[0;36m\u001b[0m\n\u001b[0;31mIndentationError\u001b[0m\u001b[0;31m:\u001b[0m 사실 틀린건 없?어요 ㅋㅋㅋㅋㅋㅋ\n"
     ]
    }
   ],
   "source": [
    "number = int(input(\"intger> \"))\n",
    "\n",
    "if number > 0:\n",
    "    raise NotImplementedError\n",
    "else:\n",
    "    raise IndentationError(\"사실 틀린건 없?어요 ㅋㅋㅋㅋㅋㅋ\")\n"
   ]
  },
  {
   "cell_type": "code",
   "execution_count": 9,
   "metadata": {},
   "outputs": [
    {
     "name": "stdout",
     "output_type": "stream",
     "text": [
      "8\n"
     ]
    }
   ],
   "source": [
    "x = 10\n",
    "y = 2\n",
    "\n",
    "if x > 4 and y > 2:\n",
    "    print(x * y)\n",
    "elif x > 4 and y < 2:\n",
    "    print(x - y)\n",
    "else:\n",
    "    print(x + y)"
   ]
  },
  {
   "cell_type": "code",
   "execution_count": 11,
   "metadata": {},
   "outputs": [
    {
     "name": "stdout",
     "output_type": "stream",
     "text": [
      "273는 2로 나누어떨어지는 숫자가 아닙니다.\n",
      "273는 3로 나누어떨어지는 숫자입니다.\n",
      "273는 4로 나누어떨어지는 숫자가 아닙니다.\n",
      "273는 5로 나누어떨어지는 숫자가 아닙니다.\n"
     ]
    }
   ],
   "source": [
    "num = int(input(\"intger> \"))\n",
    "\n",
    "arrv = [2, 3, 4, 5]\n",
    "for x in arrv:\n",
    "    if num % x == 0:\n",
    "        print(\"{}는 {}로 나누어떨어지는 숫자입니다.\".format(num, x))\n",
    "    else:\n",
    "        print(\"{}는 {}로 나누어떨어지는 숫자가 아닙니다.\".format(num, x))\n",
    "\n"
   ]
  },
  {
   "cell_type": "code",
   "execution_count": 17,
   "metadata": {},
   "outputs": [
    {
     "name": "stdout",
     "output_type": "stream",
     "text": [
      "# list\n",
      "lista = [1, 2, 3]\n",
      "listb = [4, 5, 6]\n",
      "listb + lista =  [4, 5, 6, 1, 2, 3]\n",
      "listd =  [1, 2, 3, 4, 5, 6, 1, 2, 3]\n",
      "howlong? 9\n",
      "*3 =  [1, 2, 3, 4, 5, 6, 1, 2, 3, 1, 2, 3, 4, 5, 6, 1, 2, 3, 1, 2, 3, 4, 5, 6, 1, 2, 3]\n"
     ]
    }
   ],
   "source": [
    "lista = [1, 2, 3]\n",
    "listb = [4, 5, 6]\n",
    "print(\"# list\")\n",
    "print(\"lista =\", lista)\n",
    "print(\"listb =\", listb)\n",
    "print(\"listb + lista = \", listb + lista)\n",
    "\n",
    "listc = lista + listb\n",
    "listd = listc + lista\n",
    "\n",
    "print(\"listd = \", listd)\n",
    "print(\"howlong?\", len(listd))\n",
    "print(\"*3 = \", listd * 3)"
   ]
  },
  {
   "cell_type": "code",
   "execution_count": 18,
   "metadata": {},
   "outputs": [
    {
     "name": "stdout",
     "output_type": "stream",
     "text": [
      "[1, 2, 3, 6] [4, 5, 6, 7, 9]\n"
     ]
    }
   ],
   "source": [
    "lista.append(6)\n",
    "listb.extend([7,9])\n",
    "print(lista, listb)"
   ]
  },
  {
   "cell_type": "code",
   "execution_count": 19,
   "metadata": {},
   "outputs": [
    {
     "name": "stdout",
     "output_type": "stream",
     "text": [
      "6\n",
      "[1, 2, 3, 4, 5]\n"
     ]
    }
   ],
   "source": [
    "print(listc.pop())\n",
    "print(listc)"
   ]
  },
  {
   "cell_type": "code",
   "execution_count": 21,
   "metadata": {},
   "outputs": [
    {
     "name": "stdout",
     "output_type": "stream",
     "text": [
      "지우개\n",
      "[1, 2, 3, 4, '연필', '지우개', False, True, [5, 6, 7], '칼']\n",
      "6\n",
      "[1, 2, 3, 4, '연필', '자', '지우개', False, True, [5, 6, 7], '칼']\n",
      "[1, 2, 4, '연필', '자', '지우개', False, True, [5, 6, 7], '칼']\n",
      "[1, 2, 4, '연필', '자', '지우개', False, True, [5, 6, 7], '칼', 7, 8, 9]\n"
     ]
    }
   ],
   "source": [
    "list_v = [1, 2, 3, 4, \"연필\", \"지우개\", False, True, [5, 6, 7]]\n",
    "\n",
    "print(list_v[5])\n",
    "\n",
    "list_v.append(\"칼\")\n",
    "print(list_v)\n",
    "\n",
    "print(list_v[8][1])\n",
    "\n",
    "list_v.insert(5, \"자\")\n",
    "print(list_v)\n",
    "\n",
    "list_v.remove(3)\n",
    "print(list_v)\n",
    "\n",
    "list_v.extend([7, 8, 9])\n",
    "print(list_v)"
   ]
  },
  {
   "cell_type": "code",
   "execution_count": 22,
   "metadata": {},
   "outputs": [
    {
     "name": "stdout",
     "output_type": "stream",
     "text": [
      "[1, 2, 5, 6, 7, 9, 10, 15]\n",
      "[15, 10, 9, 7, 6, 5, 2, 1]\n"
     ]
    }
   ],
   "source": [
    "list_b = [2, 5, 6, 7, 1, 9, 10, 15]\n",
    "\n",
    "list_b.sort()\n",
    "print(list_b)\n",
    "\n",
    "list_b.sort(reverse=True)\n",
    "print(list_b)"
   ]
  },
  {
   "cell_type": "code",
   "execution_count": 24,
   "metadata": {},
   "outputs": [
    {
     "name": "stdout",
     "output_type": "stream",
     "text": [
      "287: 출력\n",
      "32: 출력\n",
      "13: 출력\n",
      "52: 출력\n",
      "52: 출력\n"
     ]
    }
   ],
   "source": [
    "array = [287, 32, 13, 52, 52]\n",
    "\n",
    "for element in array:\n",
    "    print(\"{}: 출력\".format(element))"
   ]
  }
 ],
 "metadata": {
  "kernelspec": {
   "display_name": "Python 3",
   "language": "python",
   "name": "python3"
  },
  "language_info": {
   "codemirror_mode": {
    "name": "ipython",
    "version": 3
   },
   "file_extension": ".py",
   "mimetype": "text/x-python",
   "name": "python",
   "nbconvert_exporter": "python",
   "pygments_lexer": "ipython3",
   "version": "3.10.12"
  }
 },
 "nbformat": 4,
 "nbformat_minor": 2
}
